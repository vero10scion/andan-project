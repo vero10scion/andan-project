{
 "cells": [
  {
   "cell_type": "markdown",
   "id": "20d12266",
   "metadata": {},
   "source": [
    "## Проектная работа по предсказанию качества жизни в странах по ряду признаков"
   ]
  },
  {
   "cell_type": "markdown",
   "id": "e1466866",
   "metadata": {},
   "source": [
    "Загрузка необходимых библиотек:"
   ]
  },
  {
   "cell_type": "code",
   "execution_count": 1,
   "id": "039082ea",
   "metadata": {},
   "outputs": [],
   "source": [
    "import requests\n",
    "from bs4 import BeautifulSoup\n",
    "import pandas as pd\n",
    "import numpy as np       \n",
    "from scipy import stats\n",
    "import matplotlib.pyplot as plt\n",
    "import seaborn as sns\n",
    "import os\n",
    "from sklearn.model_selection import train_test_split\n",
    "from sklearn.impute import SimpleImputer\n",
    "from sklearn.preprocessing import StandardScaler"
   ]
  },
  {
   "cell_type": "markdown",
   "id": "a6c3fa81",
   "metadata": {},
   "source": [
    "## Датасет, с которым буду работать:"
   ]
  },
  {
   "cell_type": "code",
   "execution_count": 2,
   "id": "d892c7da",
   "metadata": {},
   "outputs": [
    {
     "name": "stdout",
     "output_type": "stream",
     "text": [
      "(679, 11)\n"
     ]
    },
    {
     "data": {
      "text/html": [
       "<div>\n",
       "<style scoped>\n",
       "    .dataframe tbody tr th:only-of-type {\n",
       "        vertical-align: middle;\n",
       "    }\n",
       "\n",
       "    .dataframe tbody tr th {\n",
       "        vertical-align: top;\n",
       "    }\n",
       "\n",
       "    .dataframe thead th {\n",
       "        text-align: right;\n",
       "    }\n",
       "</style>\n",
       "<table border=\"1\" class=\"dataframe\">\n",
       "  <thead>\n",
       "    <tr style=\"text-align: right;\">\n",
       "      <th></th>\n",
       "      <th>COUNTRY</th>\n",
       "      <th>Unnamed: 0</th>\n",
       "      <th>Q_OF_LIFE</th>\n",
       "      <th>POLLUTION</th>\n",
       "      <th>PRICE_TO_INCOME_RATIO</th>\n",
       "      <th>YEAR</th>\n",
       "      <th>CRIME</th>\n",
       "      <th>GDP</th>\n",
       "      <th>GDP_PER_CAP</th>\n",
       "      <th>TAX</th>\n",
       "      <th>Regional indicator</th>\n",
       "    </tr>\n",
       "  </thead>\n",
       "  <tbody>\n",
       "    <tr>\n",
       "      <th>0</th>\n",
       "      <td>Switzerland</td>\n",
       "      <td>0</td>\n",
       "      <td>194.1</td>\n",
       "      <td>35.5</td>\n",
       "      <td>6.5</td>\n",
       "      <td>2012</td>\n",
       "      <td>25.8</td>\n",
       "      <td>6.921097e+11</td>\n",
       "      <td>86547.670891</td>\n",
       "      <td>progressive</td>\n",
       "      <td>Western Europe</td>\n",
       "    </tr>\n",
       "    <tr>\n",
       "      <th>1</th>\n",
       "      <td>Germany</td>\n",
       "      <td>1</td>\n",
       "      <td>184.4</td>\n",
       "      <td>45.1</td>\n",
       "      <td>4.8</td>\n",
       "      <td>2012</td>\n",
       "      <td>21.2</td>\n",
       "      <td>3.527345e+12</td>\n",
       "      <td>43858.363055</td>\n",
       "      <td>progressive</td>\n",
       "      <td>Western Europe</td>\n",
       "    </tr>\n",
       "    <tr>\n",
       "      <th>2</th>\n",
       "      <td>Norway</td>\n",
       "      <td>2</td>\n",
       "      <td>183.4</td>\n",
       "      <td>19.2</td>\n",
       "      <td>7.1</td>\n",
       "      <td>2012</td>\n",
       "      <td>19.1</td>\n",
       "      <td>5.095063e+11</td>\n",
       "      <td>101524.141852</td>\n",
       "      <td>progressive</td>\n",
       "      <td>Western Europe</td>\n",
       "    </tr>\n",
       "    <tr>\n",
       "      <th>3</th>\n",
       "      <td>United Arab Emirates</td>\n",
       "      <td>3</td>\n",
       "      <td>177.1</td>\n",
       "      <td>69.2</td>\n",
       "      <td>4.5</td>\n",
       "      <td>2012</td>\n",
       "      <td>35.9</td>\n",
       "      <td>3.745906e+11</td>\n",
       "      <td>40976.490746</td>\n",
       "      <td>proportional</td>\n",
       "      <td>Middle East and North Africa</td>\n",
       "    </tr>\n",
       "    <tr>\n",
       "      <th>4</th>\n",
       "      <td>New Zealand</td>\n",
       "      <td>4</td>\n",
       "      <td>174.3</td>\n",
       "      <td>17.1</td>\n",
       "      <td>5.7</td>\n",
       "      <td>2012</td>\n",
       "      <td>46.8</td>\n",
       "      <td>1.762067e+11</td>\n",
       "      <td>39973.380759</td>\n",
       "      <td>progressive</td>\n",
       "      <td>North America and ANZ</td>\n",
       "    </tr>\n",
       "  </tbody>\n",
       "</table>\n",
       "</div>"
      ],
      "text/plain": [
       "                COUNTRY  Unnamed: 0 Q_OF_LIFE POLLUTION PRICE_TO_INCOME_RATIO  \\\n",
       "0           Switzerland           0     194.1      35.5                   6.5   \n",
       "1               Germany           1     184.4      45.1                   4.8   \n",
       "2                Norway           2     183.4      19.2                   7.1   \n",
       "3  United Arab Emirates           3     177.1      69.2                   4.5   \n",
       "4           New Zealand           4     174.3      17.1                   5.7   \n",
       "\n",
       "   YEAR CRIME           GDP    GDP_PER_CAP           TAX  \\\n",
       "0  2012  25.8  6.921097e+11   86547.670891   progressive   \n",
       "1  2012  21.2  3.527345e+12   43858.363055   progressive   \n",
       "2  2012  19.1  5.095063e+11  101524.141852   progressive   \n",
       "3  2012  35.9  3.745906e+11   40976.490746  proportional   \n",
       "4  2012  46.8  1.762067e+11   39973.380759   progressive   \n",
       "\n",
       "             Regional indicator  \n",
       "0                Western Europe  \n",
       "1                Western Europe  \n",
       "2                Western Europe  \n",
       "3  Middle East and North Africa  \n",
       "4         North America and ANZ  "
      ]
     },
     "execution_count": 2,
     "metadata": {},
     "output_type": "execute_result"
    }
   ],
   "source": [
    "os.chdir('C:\\\\Users\\\\Nvero\\\\OneDrive\\\\MSM')\n",
    "df = pd.read_csv('itog.csv', sep = ',')\n",
    "print(df.shape)\n",
    "df.head()"
   ]
  },
  {
   "cell_type": "markdown",
   "id": "ba5159d6",
   "metadata": {},
   "source": [
    "# Часть 2. Предварительная обработка"
   ]
  },
  {
   "cell_type": "markdown",
   "id": "08299f5c",
   "metadata": {},
   "source": [
    "Описание переменных:"
   ]
  },
  {
   "cell_type": "markdown",
   "id": "d785c451",
   "metadata": {},
   "source": [
    "1)COUNTRY - название страны, по которой собраны данные\n",
    "2)YEAR - год, в который были зафиксированы данные\n",
    "3)Q_OF_LIFE - показатель качества жизни\n",
    "4)POLLUTION - индекс загрязненности окружающей среды\n",
    "5)PRICE_TO_INCOME_RATIO - индекс соотношения цен и доходов населения\n",
    "6)CRIME - индекс уровня преступности в стране\n",
    "7)GDP - ВВП государства\n",
    "8)GDP_PER_CAP - ВВП на душу населения\n",
    "9)TAX - система налогооблажения в стране(прогрессивная/пропорциональная)\n",
    "10)Regional indicator - региональная принадлежность"
   ]
  },
  {
   "cell_type": "markdown",
   "id": "f7a6c500",
   "metadata": {},
   "source": [
    "Избавляемся от бесполезного столбца с номерами наблюдений:"
   ]
  },
  {
   "cell_type": "code",
   "execution_count": 3,
   "id": "09a0454e",
   "metadata": {},
   "outputs": [
    {
     "data": {
      "text/html": [
       "<div>\n",
       "<style scoped>\n",
       "    .dataframe tbody tr th:only-of-type {\n",
       "        vertical-align: middle;\n",
       "    }\n",
       "\n",
       "    .dataframe tbody tr th {\n",
       "        vertical-align: top;\n",
       "    }\n",
       "\n",
       "    .dataframe thead th {\n",
       "        text-align: right;\n",
       "    }\n",
       "</style>\n",
       "<table border=\"1\" class=\"dataframe\">\n",
       "  <thead>\n",
       "    <tr style=\"text-align: right;\">\n",
       "      <th></th>\n",
       "      <th>COUNTRY</th>\n",
       "      <th>Q_OF_LIFE</th>\n",
       "      <th>POLLUTION</th>\n",
       "      <th>PRICE_TO_INCOME_RATIO</th>\n",
       "      <th>YEAR</th>\n",
       "      <th>CRIME</th>\n",
       "      <th>GDP</th>\n",
       "      <th>GDP_PER_CAP</th>\n",
       "      <th>TAX</th>\n",
       "      <th>Regional indicator</th>\n",
       "    </tr>\n",
       "  </thead>\n",
       "  <tbody>\n",
       "    <tr>\n",
       "      <th>0</th>\n",
       "      <td>Switzerland</td>\n",
       "      <td>194.1</td>\n",
       "      <td>35.5</td>\n",
       "      <td>6.5</td>\n",
       "      <td>2012</td>\n",
       "      <td>25.8</td>\n",
       "      <td>6.921097e+11</td>\n",
       "      <td>86547.670891</td>\n",
       "      <td>progressive</td>\n",
       "      <td>Western Europe</td>\n",
       "    </tr>\n",
       "    <tr>\n",
       "      <th>1</th>\n",
       "      <td>Germany</td>\n",
       "      <td>184.4</td>\n",
       "      <td>45.1</td>\n",
       "      <td>4.8</td>\n",
       "      <td>2012</td>\n",
       "      <td>21.2</td>\n",
       "      <td>3.527345e+12</td>\n",
       "      <td>43858.363055</td>\n",
       "      <td>progressive</td>\n",
       "      <td>Western Europe</td>\n",
       "    </tr>\n",
       "    <tr>\n",
       "      <th>2</th>\n",
       "      <td>Norway</td>\n",
       "      <td>183.4</td>\n",
       "      <td>19.2</td>\n",
       "      <td>7.1</td>\n",
       "      <td>2012</td>\n",
       "      <td>19.1</td>\n",
       "      <td>5.095063e+11</td>\n",
       "      <td>101524.141852</td>\n",
       "      <td>progressive</td>\n",
       "      <td>Western Europe</td>\n",
       "    </tr>\n",
       "    <tr>\n",
       "      <th>3</th>\n",
       "      <td>United Arab Emirates</td>\n",
       "      <td>177.1</td>\n",
       "      <td>69.2</td>\n",
       "      <td>4.5</td>\n",
       "      <td>2012</td>\n",
       "      <td>35.9</td>\n",
       "      <td>3.745906e+11</td>\n",
       "      <td>40976.490746</td>\n",
       "      <td>proportional</td>\n",
       "      <td>Middle East and North Africa</td>\n",
       "    </tr>\n",
       "    <tr>\n",
       "      <th>4</th>\n",
       "      <td>New Zealand</td>\n",
       "      <td>174.3</td>\n",
       "      <td>17.1</td>\n",
       "      <td>5.7</td>\n",
       "      <td>2012</td>\n",
       "      <td>46.8</td>\n",
       "      <td>1.762067e+11</td>\n",
       "      <td>39973.380759</td>\n",
       "      <td>progressive</td>\n",
       "      <td>North America and ANZ</td>\n",
       "    </tr>\n",
       "  </tbody>\n",
       "</table>\n",
       "</div>"
      ],
      "text/plain": [
       "                COUNTRY Q_OF_LIFE POLLUTION PRICE_TO_INCOME_RATIO  YEAR CRIME  \\\n",
       "0           Switzerland     194.1      35.5                   6.5  2012  25.8   \n",
       "1               Germany     184.4      45.1                   4.8  2012  21.2   \n",
       "2                Norway     183.4      19.2                   7.1  2012  19.1   \n",
       "3  United Arab Emirates     177.1      69.2                   4.5  2012  35.9   \n",
       "4           New Zealand     174.3      17.1                   5.7  2012  46.8   \n",
       "\n",
       "            GDP    GDP_PER_CAP           TAX            Regional indicator  \n",
       "0  6.921097e+11   86547.670891   progressive                Western Europe  \n",
       "1  3.527345e+12   43858.363055   progressive                Western Europe  \n",
       "2  5.095063e+11  101524.141852   progressive                Western Europe  \n",
       "3  3.745906e+11   40976.490746  proportional  Middle East and North Africa  \n",
       "4  1.762067e+11   39973.380759   progressive         North America and ANZ  "
      ]
     },
     "execution_count": 3,
     "metadata": {},
     "output_type": "execute_result"
    }
   ],
   "source": [
    "df.drop('Unnamed: 0', axis=1,inplace=True)\n",
    "df.head()"
   ]
  },
  {
   "cell_type": "markdown",
   "id": "ec5dcb94",
   "metadata": {},
   "source": [
    "Обработка пропусков:"
   ]
  },
  {
   "cell_type": "code",
   "execution_count": 4,
   "id": "c2ef8351",
   "metadata": {},
   "outputs": [
    {
     "data": {
      "text/plain": [
       "COUNTRY                  0\n",
       "Q_OF_LIFE                0\n",
       "POLLUTION                0\n",
       "PRICE_TO_INCOME_RATIO    7\n",
       "YEAR                     0\n",
       "CRIME                    2\n",
       "GDP                      7\n",
       "GDP_PER_CAP              7\n",
       "TAX                      0\n",
       "Regional indicator       0\n",
       "dtype: int64"
      ]
     },
     "execution_count": 4,
     "metadata": {},
     "output_type": "execute_result"
    }
   ],
   "source": [
    "df.isnull().sum()"
   ]
  },
  {
   "cell_type": "code",
   "execution_count": 5,
   "id": "4d1fe92e",
   "metadata": {},
   "outputs": [
    {
     "data": {
      "text/plain": [
       "COUNTRY                   object\n",
       "Q_OF_LIFE                 object\n",
       "POLLUTION                 object\n",
       "PRICE_TO_INCOME_RATIO     object\n",
       "YEAR                       int64\n",
       "CRIME                     object\n",
       "GDP                      float64\n",
       "GDP_PER_CAP              float64\n",
       "TAX                       object\n",
       "Regional indicator        object\n",
       "dtype: object"
      ]
     },
     "execution_count": 5,
     "metadata": {},
     "output_type": "execute_result"
    }
   ],
   "source": [
    "df.dtypes"
   ]
  },
  {
   "cell_type": "markdown",
   "id": "0dc6429b",
   "metadata": {},
   "source": [
    "4 столбца считываются как категориальные переменные, сделаю их числовыми:"
   ]
  },
  {
   "cell_type": "code",
   "execution_count": 6,
   "id": "b0c31dc5",
   "metadata": {},
   "outputs": [],
   "source": [
    "df['CRIME'].fillna('0,0', inplace=True)\n",
    "df['PRICE_TO_INCOME_RATIO'].fillna('0,0', inplace=True)"
   ]
  },
  {
   "cell_type": "code",
   "execution_count": 7,
   "id": "9c9aab0a",
   "metadata": {},
   "outputs": [],
   "source": [
    "df['Q_OF_LIFE'] = df['Q_OF_LIFE'].apply(lambda x: float(x.replace(',','.').replace('\"','')))\n",
    "df['POLLUTION'] = df['POLLUTION'].apply(lambda x: float(x.replace(',','.').replace('\"','')))\n",
    "df['CRIME'] = df['CRIME'].apply(lambda x: float(x.replace(',','.').replace('\"','')))\n",
    "df['PRICE_TO_INCOME_RATIO'] = df['PRICE_TO_INCOME_RATIO'].apply(lambda x: float(x.replace(',','.').replace('\"','')))\n"
   ]
  },
  {
   "cell_type": "code",
   "execution_count": 8,
   "id": "22b99425",
   "metadata": {},
   "outputs": [],
   "source": [
    "df = df.drop('YEAR', axis = 1) #эта колонка имела значение только при парсинге и конкатировании таблиц, в дальнейшем не пригодится"
   ]
  },
  {
   "cell_type": "code",
   "execution_count": 9,
   "id": "12723771",
   "metadata": {},
   "outputs": [
    {
     "data": {
      "text/plain": [
       "COUNTRY                   object\n",
       "Q_OF_LIFE                float64\n",
       "POLLUTION                float64\n",
       "PRICE_TO_INCOME_RATIO    float64\n",
       "CRIME                    float64\n",
       "GDP                      float64\n",
       "GDP_PER_CAP              float64\n",
       "TAX                       object\n",
       "Regional indicator        object\n",
       "dtype: object"
      ]
     },
     "execution_count": 9,
     "metadata": {},
     "output_type": "execute_result"
    }
   ],
   "source": [
    "df.dtypes"
   ]
  },
  {
   "cell_type": "code",
   "execution_count": 10,
   "id": "891dee24",
   "metadata": {},
   "outputs": [
    {
     "data": {
      "text/plain": [
       "COUNTRY                  0\n",
       "Q_OF_LIFE                0\n",
       "POLLUTION                0\n",
       "PRICE_TO_INCOME_RATIO    0\n",
       "CRIME                    0\n",
       "GDP                      7\n",
       "GDP_PER_CAP              7\n",
       "TAX                      0\n",
       "Regional indicator       0\n",
       "dtype: int64"
      ]
     },
     "execution_count": 10,
     "metadata": {},
     "output_type": "execute_result"
    }
   ],
   "source": [
    "df.isnull().sum()"
   ]
  },
  {
   "cell_type": "markdown",
   "id": "102bd1af",
   "metadata": {},
   "source": [
    "!Для того, чтобы CRIME и PRICE_TO_INCOME_RATIO стали числовыми для работы функции пришлось заменить пропуски на нули! Но это ненадолго"
   ]
  },
  {
   "cell_type": "markdown",
   "id": "ca0e71a5",
   "metadata": {},
   "source": [
    "Разделим датасет на трейн и тест и только после этого избавимся от пропусков. Это предотвратит \"подглядывание\" в тестовые данные в будущем при построении модели линейной регрессии:"
   ]
  },
  {
   "cell_type": "markdown",
   "id": "c2d040cf",
   "metadata": {},
   "source": [
    "Т.к. в датафрейме собраны совершенно разнообразные страны, там могут находиться как очень бедные государства с малым ВВП и ВВП на душу населения и высокими показателями преступности, так и богатые. Это говорит о том, что велика вероятность наличия выбросов. Лучше заполнить пропуски медианными значениями, которые не зависят от выбросов."
   ]
  },
  {
   "cell_type": "code",
   "execution_count": 11,
   "id": "c77ab977",
   "metadata": {},
   "outputs": [
    {
     "data": {
      "text/plain": [
       "POLLUTION                0\n",
       "PRICE_TO_INCOME_RATIO    0\n",
       "CRIME                    0\n",
       "GDP                      0\n",
       "GDP_PER_CAP              0\n",
       "COUNTRY                  0\n",
       "TAX                      0\n",
       "Regional indicator       0\n",
       "dtype: int64"
      ]
     },
     "execution_count": 11,
     "metadata": {},
     "output_type": "execute_result"
    }
   ],
   "source": [
    "X_train, X_test, y_train, y_test = train_test_split(df.drop(columns=['Q_OF_LIFE']), df['Q_OF_LIFE'], test_size=0.2, random_state=42)\n",
    "X_train.columns = X_train.columns.astype(str)\n",
    "X_test.columns = X_test.columns.astype(str)\n",
    "\n",
    "#избавляемся от искусственно добавленных нулей:\n",
    "X_train['CRIME'] = X_train['CRIME'].where(X_train['CRIME']!=0, X_train['CRIME'].median())\n",
    "X_test['CRIME'] = X_test['CRIME'].where(X_test['CRIME']!=0, X_train['CRIME'].median())\n",
    "X_train['PRICE_TO_INCOME_RATIO'] = X_train['PRICE_TO_INCOME_RATIO'].where(X_train['PRICE_TO_INCOME_RATIO']!=0, X_train['PRICE_TO_INCOME_RATIO'].median())\n",
    "X_test['PRICE_TO_INCOME_RATIO'] = X_test['PRICE_TO_INCOME_RATIO'].where(X_test['PRICE_TO_INCOME_RATIO']!=0, X_train['PRICE_TO_INCOME_RATIO'].median())\n",
    "\n",
    "#использован универсальный вариант кода\n",
    "imputer = SimpleImputer(strategy='median')\n",
    "numeric_cols = X_train.select_dtypes(include=['number']).columns.tolist()\n",
    "categorical_cols = X_train.select_dtypes(include=['object']).columns.tolist()\n",
    "\n",
    "X_train[numeric_cols] = imputer.fit_transform(X_train[numeric_cols])\n",
    "X_test[numeric_cols] = imputer.transform(X_test[numeric_cols])\n",
    "\n",
    "X_train_cat = X_train[categorical_cols]\n",
    "X_test_cat = X_test[categorical_cols]\n",
    "\n",
    "missing_cols = set(X_train_cat.columns) - set(X_test_cat.columns)\n",
    "for c in missing_cols:\n",
    "    X_test_cat[c] = 0\n",
    "X_test_cat = X_test_cat.reindex(columns=X_train_cat.columns, fill_value=0)\n",
    "\n",
    "\n",
    "X_train_processed = pd.concat([X_train[numeric_cols], X_train_cat], axis=1)\n",
    "X_test_processed = pd.concat([X_test[numeric_cols], X_test_cat], axis=1)\n",
    "X_train_processed.isnull().sum()"
   ]
  },
  {
   "cell_type": "code",
   "execution_count": 12,
   "id": "15ac6ea9",
   "metadata": {},
   "outputs": [
    {
     "data": {
      "text/plain": [
       "POLLUTION                0\n",
       "PRICE_TO_INCOME_RATIO    0\n",
       "CRIME                    0\n",
       "GDP                      0\n",
       "GDP_PER_CAP              0\n",
       "COUNTRY                  0\n",
       "TAX                      0\n",
       "Regional indicator       0\n",
       "dtype: int64"
      ]
     },
     "execution_count": 12,
     "metadata": {},
     "output_type": "execute_result"
    }
   ],
   "source": [
    "X_test_processed.isnull().sum()"
   ]
  },
  {
   "cell_type": "markdown",
   "id": "c78bce19",
   "metadata": {},
   "source": [
    "Пропусков больше не осталось, переходим к следующему этапу"
   ]
  },
  {
   "cell_type": "markdown",
   "id": "cdea370f",
   "metadata": {},
   "source": [
    "# Часть 3. Визуализация"
   ]
  },
  {
   "cell_type": "markdown",
   "id": "beb478b9",
   "metadata": {},
   "source": [
    "Для выполнения всех графиков будет использован X_train_processed и y_train. Первым делом посмотрим на гистограммы распределений числовых признаков:"
   ]
  },
  {
   "cell_type": "code",
   "execution_count": 13,
   "id": "e4e38e42",
   "metadata": {},
   "outputs": [
    {
     "data": {
      "image/png": "[encoded data removed]",
      "text/plain": [
       "<Figure size 720x360 with 1 Axes>"
      ]
     },
     "metadata": {
      "needs_background": "light"
     },
     "output_type": "display_data"
    }
   ],
   "source": [
    "plt.figure(figsize = (10,5))\n",
    "\n",
    "y_train.hist(bins=50, color='red', alpha=0.5)\n",
    "plt.xlabel('Значение целевой переменной Q_OF_LIFE')\n",
    "plt.ylabel('Частота')\n",
    "plt.title('Гистограмма Q_OF_LIFE');"
   ]
  },
  {
   "cell_type": "markdown",
   "id": "873b204f",
   "metadata": {},
   "source": [
    "Не напоминает никакое распределение"
   ]
  },
  {
   "cell_type": "code",
   "execution_count": 14,
   "id": "1db5de3d",
   "metadata": {},
   "outputs": [
    {
     "data": {
      "image/png": "[encoded data removed]",
      "text/plain": [
       "<Figure size 720x360 with 1 Axes>"
      ]
     },
     "metadata": {
      "needs_background": "light"
     },
     "output_type": "display_data"
    }
   ],
   "source": [
    "plt.figure(figsize = (10,5))\n",
    "\n",
    "plt.hist(X_train_processed['POLLUTION'], bins=20, color='orange', alpha=0.5)\n",
    "plt.xlabel('Значение переменной POLLUTION')\n",
    "plt.ylabel('Частота')\n",
    "plt.title('Гистограмма POLLUTION');"
   ]
  },
  {
   "cell_type": "markdown",
   "id": "39dec95f",
   "metadata": {},
   "source": [
    "Гистограмма смутно напоминает нормальное распределение с выбросами в левом хвосте"
   ]
  },
  {
   "cell_type": "code",
   "execution_count": 15,
   "id": "7c73ca6d",
   "metadata": {},
   "outputs": [
    {
     "data": {
      "image/png": "[encoded data removed]",
      "text/plain": [
       "<Figure size 720x360 with 1 Axes>"
      ]
     },
     "metadata": {
      "needs_background": "light"
     },
     "output_type": "display_data"
    }
   ],
   "source": [
    "plt.figure(figsize = (10,5))\n",
    "\n",
    "plt.hist(X_train_processed['CRIME'], bins=20, color='green', alpha=0.5)\n",
    "plt.xlabel('Значение переменной CRIME')\n",
    "plt.ylabel('Частота')\n",
    "plt.title('Гистограмма CRIME');"
   ]
  },
  {
   "cell_type": "markdown",
   "id": "2c1ff1e2",
   "metadata": {},
   "source": [
    "Гистограмма смутно напоминает нормальное распределение с выбросами в левом хвосте"
   ]
  },
  {
   "cell_type": "code",
   "execution_count": 16,
   "id": "382b6db0",
   "metadata": {},
   "outputs": [
    {
     "data": {
      "image/png": "[encoded data removed]",
      "text/plain": [
       "<Figure size 720x360 with 1 Axes>"
      ]
     },
     "metadata": {
      "needs_background": "light"
     },
     "output_type": "display_data"
    }
   ],
   "source": [
    "plt.figure(figsize = (10,5))\n",
    "\n",
    "plt.hist(X_train_processed['GDP'], bins=20, color='blue', alpha=0.5)\n",
    "plt.xlabel('Значение переменной GDP')\n",
    "plt.ylabel('Частота')\n",
    "plt.title('Гистограмма GDP');"
   ]
  },
  {
   "cell_type": "markdown",
   "id": "37c60363",
   "metadata": {},
   "source": [
    "Похоже на экспоненциальное распределение"
   ]
  },
  {
   "cell_type": "code",
   "execution_count": 17,
   "id": "dbc2889f",
   "metadata": {},
   "outputs": [
    {
     "data": {
      "image/png": "[encoded data removed]",
      "text/plain": [
       "<Figure size 720x360 with 1 Axes>"
      ]
     },
     "metadata": {
      "needs_background": "light"
     },
     "output_type": "display_data"
    }
   ],
   "source": [
    "plt.figure(figsize = (10,5))\n",
    "\n",
    "plt.hist(X_train_processed['GDP_PER_CAP'], bins=20, color='purple', alpha=0.5)\n",
    "plt.xlabel('Значение переменной GDP_PER_CAP')\n",
    "plt.ylabel('Частота')\n",
    "plt.title('Гистограмма GDP_PER_CAP');"
   ]
  },
  {
   "cell_type": "markdown",
   "id": "91e8960a",
   "metadata": {},
   "source": [
    "Также напоминает экспоненциальное распределение, но уже намного меньше"
   ]
  },
  {
   "cell_type": "code",
   "execution_count": 18,
   "id": "f33ed656",
   "metadata": {
    "scrolled": true
   },
   "outputs": [
    {
     "data": {
      "image/png": "[encoded data removed]",
      "text/plain": [
       "<Figure size 720x360 with 1 Axes>"
      ]
     },
     "metadata": {
      "needs_background": "light"
     },
     "output_type": "display_data"
    }
   ],
   "source": [
    "plt.figure(figsize = (10,5))\n",
    "\n",
    "plt.hist(X_train_processed['PRICE_TO_INCOME_RATIO'], bins=20, color='yellow', alpha=0.5)\n",
    "plt.xlabel('Значение переменной PRICE_TO_INCOME_RATIO')\n",
    "plt.ylabel('Частота')\n",
    "plt.title('Гистограмма PRICE_TO_INCOME_RATIO');"
   ]
  },
  {
   "cell_type": "markdown",
   "id": "35db24f5",
   "metadata": {},
   "source": [
    "Если убрать выбросы в правом конце хвоста распределения, напоминает нормальное распределение"
   ]
  },
  {
   "cell_type": "markdown",
   "id": "916c8fb5",
   "metadata": {},
   "source": [
    "Теперь построим диаграммы рассеивания, что определить, есть ли корреляция между целевой переменной и предикторами:"
   ]
  },
  {
   "cell_type": "code",
   "execution_count": 19,
   "id": "0d299b8c",
   "metadata": {},
   "outputs": [
    {
     "data": {
      "image/png": "[encoded data removed]",
      "text/plain": [
       "<Figure size 720x576 with 1 Axes>"
      ]
     },
     "metadata": {
      "needs_background": "light"
     },
     "output_type": "display_data"
    },
    {
     "data": {
      "image/png": "[encoded data removed]",
      "text/plain": [
       "<Figure size 720x576 with 1 Axes>"
      ]
     },
     "metadata": {
      "needs_background": "light"
     },
     "output_type": "display_data"
    },
    {
     "data": {
      "image/png": "[encoded data removed]",
      "text/plain": [
       "<Figure size 720x576 with 1 Axes>"
      ]
     },
     "metadata": {
      "needs_background": "light"
     },
     "output_type": "display_data"
    },
    {
     "data": {
      "image/png": "[encoded data removed]",
      "text/plain": [
       "<Figure size 720x576 with 1 Axes>"
      ]
     },
     "metadata": {
      "needs_background": "light"
     },
     "output_type": "display_data"
    },
    {
     "data": {
      "image/png": "[encoded data removed]",
      "text/plain": [
       "<Figure size 720x576 with 1 Axes>"
      ]
     },
     "metadata": {
      "needs_background": "light"
     },
     "output_type": "display_data"
    }
   ],
   "source": [
    "for col in numeric_cols:\n",
    "    plt.figure(figsize=(10, 8))\n",
    "    sns.scatterplot(data=X_train_processed, x=col, y=y_train, alpha=0.8, color='blue')\n",
    "    plt.xlabel(col, fontsize=12)\n",
    "    plt.title(f\"{col} vs. Q_OF_LIFE\", fontsize=16)\n",
    "    plt.ylabel(\"Q_OF_LIFE\", fontsize=12)\n",
    "    plt.xticks(fontsize=10)\n",
    "    plt.yticks(fontsize=10)\n",
    "    plt.show()"
   ]
  },
  {
   "cell_type": "markdown",
   "id": "9a2f676d",
   "metadata": {},
   "source": [
    "Между POLUTTION,CRIME и Q_OF_LIFE явно присутствует прямая обратная взаимосвязь. PRICE_TO_INCOME и GDP_PER_CAP с целевой переменной будто бы распределены относительно друг друга логарифмически. А GDP и Q_OF_LIFE соотносятся очень странно. Попробуем преобразовать три эти диаграммы:"
   ]
  },
  {
   "cell_type": "code",
   "execution_count": 20,
   "id": "3678059a",
   "metadata": {},
   "outputs": [
    {
     "data": {
      "image/png": "[encoded data removed]",
      "text/plain": [
       "<Figure size 432x288 with 1 Axes>"
      ]
     },
     "metadata": {
      "needs_background": "light"
     },
     "output_type": "display_data"
    }
   ],
   "source": [
    "col = 'GDP'\n",
    "sns.scatterplot(data=X_train_processed, x=np.log(X_train_processed[col]), y=y_train, alpha=0.8, color='blue')\n",
    "plt.xlabel(col, fontsize=12)\n",
    "plt.title(f\"{col} vs. Q_OF_LIFE\", fontsize=16)\n",
    "plt.ylabel(\"Q_OF_LIFE\", fontsize=12)\n",
    "plt.xticks(fontsize=10)\n",
    "plt.yticks(fontsize=10)\n",
    "plt.show()"
   ]
  },
  {
   "cell_type": "markdown",
   "id": "86356a33",
   "metadata": {},
   "source": [
    "Судя по этому графику между GDP и Q_OF_LIFE нет ни положительной, ни отрицательной взаимосвязи. "
   ]
  },
  {
   "cell_type": "code",
   "execution_count": 21,
   "id": "dfc20c4f",
   "metadata": {},
   "outputs": [
    {
     "data": {
      "image/png": "[encoded data removed]",
      "text/plain": [
       "<Figure size 432x288 with 1 Axes>"
      ]
     },
     "metadata": {
      "needs_background": "light"
     },
     "output_type": "display_data"
    }
   ],
   "source": [
    "col = 'GDP_PER_CAP'\n",
    "sns.scatterplot(data=X_train_processed, x=np.log(X_train_processed[col]), y=y_train, alpha=0.8, color='blue')\n",
    "plt.xlabel(col, fontsize=12)\n",
    "plt.title(f\"{col} vs. Q_OF_LIFE\", fontsize=16)\n",
    "plt.ylabel(\"Q_OF_LIFE\", fontsize=12)\n",
    "plt.xticks(fontsize=10)\n",
    "plt.yticks(fontsize=10)\n",
    "plt.show()"
   ]
  },
  {
   "cell_type": "markdown",
   "id": "87c9c368",
   "metadata": {},
   "source": [
    "Тут явно прослеживается прямая взаимосвязь. Логарифмизация переменной пошла на пользу"
   ]
  },
  {
   "cell_type": "code",
   "execution_count": 22,
   "id": "2c7093de",
   "metadata": {},
   "outputs": [
    {
     "data": {
      "image/png": "[encoded data removed]",
      "text/plain": [
       "<Figure size 432x288 with 1 Axes>"
      ]
     },
     "metadata": {
      "needs_background": "light"
     },
     "output_type": "display_data"
    }
   ],
   "source": [
    "col = 'PRICE_TO_INCOME_RATIO'\n",
    "sns.scatterplot(data=X_train_processed, x=np.log(X_train_processed[col]), y=y_train, alpha=0.8, color='blue')\n",
    "plt.xlabel(col, fontsize=12)\n",
    "plt.title(f\"{col} vs. Q_OF_LIFE\", fontsize=16)\n",
    "plt.ylabel(\"Q_OF_LIFE\", fontsize=12)\n",
    "plt.xticks(fontsize=10)\n",
    "plt.yticks(fontsize=10)\n",
    "plt.show()"
   ]
  },
  {
   "cell_type": "markdown",
   "id": "ac7cdc08",
   "metadata": {},
   "source": [
    "Этот график также стал выглядеть лучше, видна обратная взаимосвязь."
   ]
  },
  {
   "cell_type": "markdown",
   "id": "b55d5e08",
   "metadata": {},
   "source": [
    "# Часть 4. Новые признаки"
   ]
  },
  {
   "cell_type": "markdown",
   "id": "cb8f64a0",
   "metadata": {},
   "source": [
    "На основании прошлого пункта-визуализации можно попробовать добавить к обучающей и тестовой выборке новые столбцы: логарифм от GDP_PER_CAP и PRICE_TO_INCOME_RATIO, это должно сделать будущую модель более точной."
   ]
  },
  {
   "cell_type": "code",
   "execution_count": 23,
   "id": "e1d65894",
   "metadata": {},
   "outputs": [
    {
     "data": {
      "text/html": [
       "<div>\n",
       "<style scoped>\n",
       "    .dataframe tbody tr th:only-of-type {\n",
       "        vertical-align: middle;\n",
       "    }\n",
       "\n",
       "    .dataframe tbody tr th {\n",
       "        vertical-align: top;\n",
       "    }\n",
       "\n",
       "    .dataframe thead th {\n",
       "        text-align: right;\n",
       "    }\n",
       "</style>\n",
       "<table border=\"1\" class=\"dataframe\">\n",
       "  <thead>\n",
       "    <tr style=\"text-align: right;\">\n",
       "      <th></th>\n",
       "      <th>POLLUTION</th>\n",
       "      <th>PRICE_TO_INCOME_RATIO</th>\n",
       "      <th>CRIME</th>\n",
       "      <th>GDP</th>\n",
       "      <th>GDP_PER_CAP</th>\n",
       "      <th>COUNTRY</th>\n",
       "      <th>TAX</th>\n",
       "      <th>Regional indicator</th>\n",
       "      <th>log_CAP</th>\n",
       "      <th>log_RATIO</th>\n",
       "    </tr>\n",
       "  </thead>\n",
       "  <tbody>\n",
       "    <tr>\n",
       "      <th>430</th>\n",
       "      <td>30.5</td>\n",
       "      <td>10.0</td>\n",
       "      <td>34.5</td>\n",
       "      <td>2.423130e+11</td>\n",
       "      <td>23563.000000</td>\n",
       "      <td>Portugal</td>\n",
       "      <td>proportional</td>\n",
       "      <td>Western Europe</td>\n",
       "      <td>10.067433</td>\n",
       "      <td>2.302585</td>\n",
       "    </tr>\n",
       "    <tr>\n",
       "      <th>249</th>\n",
       "      <td>53.2</td>\n",
       "      <td>14.7</td>\n",
       "      <td>54.0</td>\n",
       "      <td>9.929038e+10</td>\n",
       "      <td>6124.490887</td>\n",
       "      <td>Ecuador</td>\n",
       "      <td>progressive</td>\n",
       "      <td>Latin America and Caribbean</td>\n",
       "      <td>8.720051</td>\n",
       "      <td>2.687847</td>\n",
       "    </tr>\n",
       "    <tr>\n",
       "      <th>220</th>\n",
       "      <td>65.2</td>\n",
       "      <td>3.1</td>\n",
       "      <td>78.4</td>\n",
       "      <td>3.467098e+11</td>\n",
       "      <td>6259.839681</td>\n",
       "      <td>South Africa</td>\n",
       "      <td>progressive</td>\n",
       "      <td>Sub-Saharan Africa</td>\n",
       "      <td>8.741910</td>\n",
       "      <td>1.131402</td>\n",
       "    </tr>\n",
       "    <tr>\n",
       "      <th>18</th>\n",
       "      <td>51.9</td>\n",
       "      <td>7.8</td>\n",
       "      <td>40.6</td>\n",
       "      <td>2.162366e+11</td>\n",
       "      <td>20564.889862</td>\n",
       "      <td>Portugal</td>\n",
       "      <td>progressive</td>\n",
       "      <td>Western Europe</td>\n",
       "      <td>9.931341</td>\n",
       "      <td>2.054124</td>\n",
       "    </tr>\n",
       "    <tr>\n",
       "      <th>244</th>\n",
       "      <td>65.7</td>\n",
       "      <td>14.3</td>\n",
       "      <td>50.0</td>\n",
       "      <td>8.060408e+10</td>\n",
       "      <td>3843.780672</td>\n",
       "      <td>Sri Lanka</td>\n",
       "      <td>progressive</td>\n",
       "      <td>South Asia</td>\n",
       "      <td>8.254212</td>\n",
       "      <td>2.660260</td>\n",
       "    </tr>\n",
       "  </tbody>\n",
       "</table>\n",
       "</div>"
      ],
      "text/plain": [
       "     POLLUTION  PRICE_TO_INCOME_RATIO  CRIME           GDP   GDP_PER_CAP  \\\n",
       "430       30.5                   10.0   34.5  2.423130e+11  23563.000000   \n",
       "249       53.2                   14.7   54.0  9.929038e+10   6124.490887   \n",
       "220       65.2                    3.1   78.4  3.467098e+11   6259.839681   \n",
       "18        51.9                    7.8   40.6  2.162366e+11  20564.889862   \n",
       "244       65.7                   14.3   50.0  8.060408e+10   3843.780672   \n",
       "\n",
       "          COUNTRY           TAX           Regional indicator    log_CAP  \\\n",
       "430      Portugal  proportional               Western Europe  10.067433   \n",
       "249       Ecuador   progressive  Latin America and Caribbean   8.720051   \n",
       "220  South Africa   progressive           Sub-Saharan Africa   8.741910   \n",
       "18       Portugal   progressive               Western Europe   9.931341   \n",
       "244     Sri Lanka   progressive                   South Asia   8.254212   \n",
       "\n",
       "     log_RATIO  \n",
       "430   2.302585  \n",
       "249   2.687847  \n",
       "220   1.131402  \n",
       "18    2.054124  \n",
       "244   2.660260  "
      ]
     },
     "execution_count": 23,
     "metadata": {},
     "output_type": "execute_result"
    }
   ],
   "source": [
    "X_train_processed['log_CAP'] = np.log(X_train_processed['GDP_PER_CAP'])\n",
    "X_test_processed['log_CAP'] = np.log(X_test_processed['GDP_PER_CAP'])\n",
    "X_train_processed['log_RATIO'] = np.log(X_train_processed['PRICE_TO_INCOME_RATIO'])\n",
    "X_test_processed['log_RATIO'] = np.log(X_test_processed['PRICE_TO_INCOME_RATIO'])\n",
    "X_train_processed.head()"
   ]
  },
  {
   "cell_type": "markdown",
   "id": "59c70d39",
   "metadata": {},
   "source": [
    "Нам известны названия стран, по которым мы собирали информацию. Страны подразделяются на развитые и развивающиеся. Добавим в датафреймы столбец, который будет показывать к какому типу страны относится наблюдение:"
   ]
  },
  {
   "cell_type": "code",
   "execution_count": 24,
   "id": "3e736866",
   "metadata": {},
   "outputs": [],
   "source": [
    "developed = ['Australia', 'Austria', 'Belgium', 'Canada', 'Cyprus', 'Czech Republic', 'Denmark', 'Estonia', 'Finland', 'France', 'Germany', 'Greece', 'Hong Kong', 'Hungary', 'Iceland', 'Ireland', 'Israel', 'Italy', 'Japan', 'Latvia', 'Lithuania', 'Luxembourg', 'Malta', 'Netherlands', 'New Zealand', 'Norway', 'Poland', 'Portugal', 'Singapore', 'Slovakia', 'Slovenia','UAE','Slovak Republic', 'South Korea', 'Spain', 'Sweden', 'Switzerland', 'Taiwan', 'United Arab Emirates', 'United Kingdom', 'United States']"
   ]
  },
  {
   "cell_type": "code",
   "execution_count": 25,
   "id": "45605e1d",
   "metadata": {},
   "outputs": [
    {
     "data": {
      "text/html": [
       "<div>\n",
       "<style scoped>\n",
       "    .dataframe tbody tr th:only-of-type {\n",
       "        vertical-align: middle;\n",
       "    }\n",
       "\n",
       "    .dataframe tbody tr th {\n",
       "        vertical-align: top;\n",
       "    }\n",
       "\n",
       "    .dataframe thead th {\n",
       "        text-align: right;\n",
       "    }\n",
       "</style>\n",
       "<table border=\"1\" class=\"dataframe\">\n",
       "  <thead>\n",
       "    <tr style=\"text-align: right;\">\n",
       "      <th></th>\n",
       "      <th>POLLUTION</th>\n",
       "      <th>PRICE_TO_INCOME_RATIO</th>\n",
       "      <th>CRIME</th>\n",
       "      <th>GDP</th>\n",
       "      <th>GDP_PER_CAP</th>\n",
       "      <th>COUNTRY</th>\n",
       "      <th>TAX</th>\n",
       "      <th>Regional indicator</th>\n",
       "      <th>log_CAP</th>\n",
       "      <th>log_RATIO</th>\n",
       "      <th>Type</th>\n",
       "    </tr>\n",
       "  </thead>\n",
       "  <tbody>\n",
       "    <tr>\n",
       "      <th>430</th>\n",
       "      <td>30.5</td>\n",
       "      <td>10.0</td>\n",
       "      <td>34.5</td>\n",
       "      <td>2.423130e+11</td>\n",
       "      <td>23563.000000</td>\n",
       "      <td>Portugal</td>\n",
       "      <td>proportional</td>\n",
       "      <td>Western Europe</td>\n",
       "      <td>10.067433</td>\n",
       "      <td>2.302585</td>\n",
       "      <td>developed</td>\n",
       "    </tr>\n",
       "    <tr>\n",
       "      <th>249</th>\n",
       "      <td>53.2</td>\n",
       "      <td>14.7</td>\n",
       "      <td>54.0</td>\n",
       "      <td>9.929038e+10</td>\n",
       "      <td>6124.490887</td>\n",
       "      <td>Ecuador</td>\n",
       "      <td>progressive</td>\n",
       "      <td>Latin America and Caribbean</td>\n",
       "      <td>8.720051</td>\n",
       "      <td>2.687847</td>\n",
       "      <td>developing</td>\n",
       "    </tr>\n",
       "    <tr>\n",
       "      <th>220</th>\n",
       "      <td>65.2</td>\n",
       "      <td>3.1</td>\n",
       "      <td>78.4</td>\n",
       "      <td>3.467098e+11</td>\n",
       "      <td>6259.839681</td>\n",
       "      <td>South Africa</td>\n",
       "      <td>progressive</td>\n",
       "      <td>Sub-Saharan Africa</td>\n",
       "      <td>8.741910</td>\n",
       "      <td>1.131402</td>\n",
       "      <td>developing</td>\n",
       "    </tr>\n",
       "    <tr>\n",
       "      <th>18</th>\n",
       "      <td>51.9</td>\n",
       "      <td>7.8</td>\n",
       "      <td>40.6</td>\n",
       "      <td>2.162366e+11</td>\n",
       "      <td>20564.889862</td>\n",
       "      <td>Portugal</td>\n",
       "      <td>progressive</td>\n",
       "      <td>Western Europe</td>\n",
       "      <td>9.931341</td>\n",
       "      <td>2.054124</td>\n",
       "      <td>developed</td>\n",
       "    </tr>\n",
       "    <tr>\n",
       "      <th>244</th>\n",
       "      <td>65.7</td>\n",
       "      <td>14.3</td>\n",
       "      <td>50.0</td>\n",
       "      <td>8.060408e+10</td>\n",
       "      <td>3843.780672</td>\n",
       "      <td>Sri Lanka</td>\n",
       "      <td>progressive</td>\n",
       "      <td>South Asia</td>\n",
       "      <td>8.254212</td>\n",
       "      <td>2.660260</td>\n",
       "      <td>developing</td>\n",
       "    </tr>\n",
       "  </tbody>\n",
       "</table>\n",
       "</div>"
      ],
      "text/plain": [
       "     POLLUTION  PRICE_TO_INCOME_RATIO  CRIME           GDP   GDP_PER_CAP  \\\n",
       "430       30.5                   10.0   34.5  2.423130e+11  23563.000000   \n",
       "249       53.2                   14.7   54.0  9.929038e+10   6124.490887   \n",
       "220       65.2                    3.1   78.4  3.467098e+11   6259.839681   \n",
       "18        51.9                    7.8   40.6  2.162366e+11  20564.889862   \n",
       "244       65.7                   14.3   50.0  8.060408e+10   3843.780672   \n",
       "\n",
       "          COUNTRY           TAX           Regional indicator    log_CAP  \\\n",
       "430      Portugal  proportional               Western Europe  10.067433   \n",
       "249       Ecuador   progressive  Latin America and Caribbean   8.720051   \n",
       "220  South Africa   progressive           Sub-Saharan Africa   8.741910   \n",
       "18       Portugal   progressive               Western Europe   9.931341   \n",
       "244     Sri Lanka   progressive                   South Asia   8.254212   \n",
       "\n",
       "     log_RATIO        Type  \n",
       "430   2.302585   developed  \n",
       "249   2.687847  developing  \n",
       "220   1.131402  developing  \n",
       "18    2.054124   developed  \n",
       "244   2.660260  developing  "
      ]
     },
     "execution_count": 25,
     "metadata": {},
     "output_type": "execute_result"
    }
   ],
   "source": [
    "X_train_processed['Type'] = X_train_processed['COUNTRY'].apply(lambda x: 'developed' if x in developed else 'developing')\n",
    "X_test_processed['Type'] = X_test_processed['COUNTRY'].apply(lambda x: 'developed' if x in developed else 'developing')\n",
    "X_train_processed.head()"
   ]
  },
  {
   "cell_type": "markdown",
   "id": "e17bbd8a",
   "metadata": {},
   "source": [
    "Также добавим признак Regime, который будет характеризовать политический режим в стране:"
   ]
  },
  {
   "cell_type": "code",
   "execution_count": 26,
   "id": "c9992a8c",
   "metadata": {},
   "outputs": [],
   "source": [
    "not_demokrat =['China', 'North Korea', 'Cuba', 'Vietnam', 'Laos', 'Iran', 'Saudi Arabia', 'Syria', 'Belarus', 'Russia', 'Kazakhstan', 'Uzbekistan', 'Turkmenistan', 'Tajikistan', 'Eritrea', 'Sudan', 'Zimbabwe', 'Venezuela', 'Ethiopia', 'Nicaragua', 'Chad', 'Bahrain', 'Oman', 'United Arab Emirates', 'UAE', 'Qatar', 'Egypt']"
   ]
  },
  {
   "cell_type": "code",
   "execution_count": 27,
   "id": "097147df",
   "metadata": {},
   "outputs": [
    {
     "data": {
      "text/html": [
       "<div>\n",
       "<style scoped>\n",
       "    .dataframe tbody tr th:only-of-type {\n",
       "        vertical-align: middle;\n",
       "    }\n",
       "\n",
       "    .dataframe tbody tr th {\n",
       "        vertical-align: top;\n",
       "    }\n",
       "\n",
       "    .dataframe thead th {\n",
       "        text-align: right;\n",
       "    }\n",
       "</style>\n",
       "<table border=\"1\" class=\"dataframe\">\n",
       "  <thead>\n",
       "    <tr style=\"text-align: right;\">\n",
       "      <th></th>\n",
       "      <th>POLLUTION</th>\n",
       "      <th>PRICE_TO_INCOME_RATIO</th>\n",
       "      <th>CRIME</th>\n",
       "      <th>GDP</th>\n",
       "      <th>GDP_PER_CAP</th>\n",
       "      <th>COUNTRY</th>\n",
       "      <th>TAX</th>\n",
       "      <th>Regional indicator</th>\n",
       "      <th>log_CAP</th>\n",
       "      <th>log_RATIO</th>\n",
       "      <th>Type</th>\n",
       "      <th>Regime</th>\n",
       "    </tr>\n",
       "  </thead>\n",
       "  <tbody>\n",
       "    <tr>\n",
       "      <th>430</th>\n",
       "      <td>30.5</td>\n",
       "      <td>10.0</td>\n",
       "      <td>34.5</td>\n",
       "      <td>2.423130e+11</td>\n",
       "      <td>23563.000000</td>\n",
       "      <td>Portugal</td>\n",
       "      <td>proportional</td>\n",
       "      <td>Western Europe</td>\n",
       "      <td>10.067433</td>\n",
       "      <td>2.302585</td>\n",
       "      <td>developed</td>\n",
       "      <td>democracy</td>\n",
       "    </tr>\n",
       "    <tr>\n",
       "      <th>249</th>\n",
       "      <td>53.2</td>\n",
       "      <td>14.7</td>\n",
       "      <td>54.0</td>\n",
       "      <td>9.929038e+10</td>\n",
       "      <td>6124.490887</td>\n",
       "      <td>Ecuador</td>\n",
       "      <td>progressive</td>\n",
       "      <td>Latin America and Caribbean</td>\n",
       "      <td>8.720051</td>\n",
       "      <td>2.687847</td>\n",
       "      <td>developing</td>\n",
       "      <td>democracy</td>\n",
       "    </tr>\n",
       "    <tr>\n",
       "      <th>220</th>\n",
       "      <td>65.2</td>\n",
       "      <td>3.1</td>\n",
       "      <td>78.4</td>\n",
       "      <td>3.467098e+11</td>\n",
       "      <td>6259.839681</td>\n",
       "      <td>South Africa</td>\n",
       "      <td>progressive</td>\n",
       "      <td>Sub-Saharan Africa</td>\n",
       "      <td>8.741910</td>\n",
       "      <td>1.131402</td>\n",
       "      <td>developing</td>\n",
       "      <td>democracy</td>\n",
       "    </tr>\n",
       "    <tr>\n",
       "      <th>18</th>\n",
       "      <td>51.9</td>\n",
       "      <td>7.8</td>\n",
       "      <td>40.6</td>\n",
       "      <td>2.162366e+11</td>\n",
       "      <td>20564.889862</td>\n",
       "      <td>Portugal</td>\n",
       "      <td>progressive</td>\n",
       "      <td>Western Europe</td>\n",
       "      <td>9.931341</td>\n",
       "      <td>2.054124</td>\n",
       "      <td>developed</td>\n",
       "      <td>democracy</td>\n",
       "    </tr>\n",
       "    <tr>\n",
       "      <th>244</th>\n",
       "      <td>65.7</td>\n",
       "      <td>14.3</td>\n",
       "      <td>50.0</td>\n",
       "      <td>8.060408e+10</td>\n",
       "      <td>3843.780672</td>\n",
       "      <td>Sri Lanka</td>\n",
       "      <td>progressive</td>\n",
       "      <td>South Asia</td>\n",
       "      <td>8.254212</td>\n",
       "      <td>2.660260</td>\n",
       "      <td>developing</td>\n",
       "      <td>democracy</td>\n",
       "    </tr>\n",
       "  </tbody>\n",
       "</table>\n",
       "</div>"
      ],
      "text/plain": [
       "     POLLUTION  PRICE_TO_INCOME_RATIO  CRIME           GDP   GDP_PER_CAP  \\\n",
       "430       30.5                   10.0   34.5  2.423130e+11  23563.000000   \n",
       "249       53.2                   14.7   54.0  9.929038e+10   6124.490887   \n",
       "220       65.2                    3.1   78.4  3.467098e+11   6259.839681   \n",
       "18        51.9                    7.8   40.6  2.162366e+11  20564.889862   \n",
       "244       65.7                   14.3   50.0  8.060408e+10   3843.780672   \n",
       "\n",
       "          COUNTRY           TAX           Regional indicator    log_CAP  \\\n",
       "430      Portugal  proportional               Western Europe  10.067433   \n",
       "249       Ecuador   progressive  Latin America and Caribbean   8.720051   \n",
       "220  South Africa   progressive           Sub-Saharan Africa   8.741910   \n",
       "18       Portugal   progressive               Western Europe   9.931341   \n",
       "244     Sri Lanka   progressive                   South Asia   8.254212   \n",
       "\n",
       "     log_RATIO        Type     Regime  \n",
       "430   2.302585   developed  democracy  \n",
       "249   2.687847  developing  democracy  \n",
       "220   1.131402  developing  democracy  \n",
       "18    2.054124   developed  democracy  \n",
       "244   2.660260  developing  democracy  "
      ]
     },
     "execution_count": 27,
     "metadata": {},
     "output_type": "execute_result"
    }
   ],
   "source": [
    "X_train_processed['Regime'] = X_train_processed['COUNTRY'].apply(lambda x: 'no democracy' if x in not_demokrat else 'democracy')\n",
    "X_test_processed['Regime'] = X_test_processed['COUNTRY'].apply(lambda x: 'no democracy' if x in not_demokrat else 'democracy')\n",
    "X_train_processed.head()"
   ]
  },
  {
   "cell_type": "markdown",
   "id": "1c2cbfd6",
   "metadata": {},
   "source": [
    "Названия стран были необходимы только для блоков Новые признаки. В дальнейшем они будут бесполезны, поэтому просто уберу их:"
   ]
  },
  {
   "cell_type": "code",
   "execution_count": 28,
   "id": "db02297f",
   "metadata": {},
   "outputs": [
    {
     "data": {
      "text/html": [
       "<div>\n",
       "<style scoped>\n",
       "    .dataframe tbody tr th:only-of-type {\n",
       "        vertical-align: middle;\n",
       "    }\n",
       "\n",
       "    .dataframe tbody tr th {\n",
       "        vertical-align: top;\n",
       "    }\n",
       "\n",
       "    .dataframe thead th {\n",
       "        text-align: right;\n",
       "    }\n",
       "</style>\n",
       "<table border=\"1\" class=\"dataframe\">\n",
       "  <thead>\n",
       "    <tr style=\"text-align: right;\">\n",
       "      <th></th>\n",
       "      <th>POLLUTION</th>\n",
       "      <th>PRICE_TO_INCOME_RATIO</th>\n",
       "      <th>CRIME</th>\n",
       "      <th>GDP</th>\n",
       "      <th>GDP_PER_CAP</th>\n",
       "      <th>TAX</th>\n",
       "      <th>Regional indicator</th>\n",
       "      <th>log_CAP</th>\n",
       "      <th>log_RATIO</th>\n",
       "      <th>Type</th>\n",
       "      <th>Regime</th>\n",
       "    </tr>\n",
       "  </thead>\n",
       "  <tbody>\n",
       "    <tr>\n",
       "      <th>430</th>\n",
       "      <td>30.5</td>\n",
       "      <td>10.0</td>\n",
       "      <td>34.5</td>\n",
       "      <td>2.423130e+11</td>\n",
       "      <td>23563.000000</td>\n",
       "      <td>proportional</td>\n",
       "      <td>Western Europe</td>\n",
       "      <td>10.067433</td>\n",
       "      <td>2.302585</td>\n",
       "      <td>developed</td>\n",
       "      <td>democracy</td>\n",
       "    </tr>\n",
       "    <tr>\n",
       "      <th>249</th>\n",
       "      <td>53.2</td>\n",
       "      <td>14.7</td>\n",
       "      <td>54.0</td>\n",
       "      <td>9.929038e+10</td>\n",
       "      <td>6124.490887</td>\n",
       "      <td>progressive</td>\n",
       "      <td>Latin America and Caribbean</td>\n",
       "      <td>8.720051</td>\n",
       "      <td>2.687847</td>\n",
       "      <td>developing</td>\n",
       "      <td>democracy</td>\n",
       "    </tr>\n",
       "    <tr>\n",
       "      <th>220</th>\n",
       "      <td>65.2</td>\n",
       "      <td>3.1</td>\n",
       "      <td>78.4</td>\n",
       "      <td>3.467098e+11</td>\n",
       "      <td>6259.839681</td>\n",
       "      <td>progressive</td>\n",
       "      <td>Sub-Saharan Africa</td>\n",
       "      <td>8.741910</td>\n",
       "      <td>1.131402</td>\n",
       "      <td>developing</td>\n",
       "      <td>democracy</td>\n",
       "    </tr>\n",
       "    <tr>\n",
       "      <th>18</th>\n",
       "      <td>51.9</td>\n",
       "      <td>7.8</td>\n",
       "      <td>40.6</td>\n",
       "      <td>2.162366e+11</td>\n",
       "      <td>20564.889862</td>\n",
       "      <td>progressive</td>\n",
       "      <td>Western Europe</td>\n",
       "      <td>9.931341</td>\n",
       "      <td>2.054124</td>\n",
       "      <td>developed</td>\n",
       "      <td>democracy</td>\n",
       "    </tr>\n",
       "    <tr>\n",
       "      <th>244</th>\n",
       "      <td>65.7</td>\n",
       "      <td>14.3</td>\n",
       "      <td>50.0</td>\n",
       "      <td>8.060408e+10</td>\n",
       "      <td>3843.780672</td>\n",
       "      <td>progressive</td>\n",
       "      <td>South Asia</td>\n",
       "      <td>8.254212</td>\n",
       "      <td>2.660260</td>\n",
       "      <td>developing</td>\n",
       "      <td>democracy</td>\n",
       "    </tr>\n",
       "  </tbody>\n",
       "</table>\n",
       "</div>"
      ],
      "text/plain": [
       "     POLLUTION  PRICE_TO_INCOME_RATIO  CRIME           GDP   GDP_PER_CAP  \\\n",
       "430       30.5                   10.0   34.5  2.423130e+11  23563.000000   \n",
       "249       53.2                   14.7   54.0  9.929038e+10   6124.490887   \n",
       "220       65.2                    3.1   78.4  3.467098e+11   6259.839681   \n",
       "18        51.9                    7.8   40.6  2.162366e+11  20564.889862   \n",
       "244       65.7                   14.3   50.0  8.060408e+10   3843.780672   \n",
       "\n",
       "              TAX           Regional indicator    log_CAP  log_RATIO  \\\n",
       "430  proportional               Western Europe  10.067433   2.302585   \n",
       "249   progressive  Latin America and Caribbean   8.720051   2.687847   \n",
       "220   progressive           Sub-Saharan Africa   8.741910   1.131402   \n",
       "18    progressive               Western Europe   9.931341   2.054124   \n",
       "244   progressive                   South Asia   8.254212   2.660260   \n",
       "\n",
       "           Type     Regime  \n",
       "430   developed  democracy  \n",
       "249  developing  democracy  \n",
       "220  developing  democracy  \n",
       "18    developed  democracy  \n",
       "244  developing  democracy  "
      ]
     },
     "execution_count": 28,
     "metadata": {},
     "output_type": "execute_result"
    }
   ],
   "source": [
    "X_train_processed.drop(['COUNTRY'], axis = 1, inplace = True)\n",
    "X_test_processed.drop(['COUNTRY'], axis = 1, inplace = True)\n",
    "X_train_processed.head()"
   ]
  },
  {
   "cell_type": "markdown",
   "id": "8740c179",
   "metadata": {},
   "source": [
    "# Гипотезы"
   ]
  },
  {
   "cell_type": "markdown",
   "id": "f8fc845c",
   "metadata": {},
   "source": [
    "Проверим гипотезы о:\n",
    " 1)Влиянии признаков на таргет(альфа = 0.05)\n",
    " 2)Гипотеза о нормальности распределения ответов"
   ]
  },
  {
   "cell_type": "markdown",
   "id": "e0708e84",
   "metadata": {},
   "source": [
    "### 1.1)  t-тест для определения статистически значимых различий между средними значениями целевой переменной для каждой группы - демократических и недемократических государств."
   ]
  },
  {
   "cell_type": "code",
   "execution_count": 30,
   "id": "21529c07",
   "metadata": {},
   "outputs": [
    {
     "name": "stdout",
     "output_type": "stream",
     "text": [
      "T-тест:\n",
      "T-статистика: 5.565163988803305\n",
      "P-значение: 4.12603535862296e-08\n"
     ]
    }
   ],
   "source": [
    "regime_democracy = y_train[X_train_processed['Regime'] == 'democracy']\n",
    "regime_no_democracy = y_train[X_train_processed['Regime'] == 'no democracy']\n",
    "\n",
    "t_statistic, p_value = stats.ttest_ind(regime_democracy, regime_no_democracy)\n",
    "\n",
    "print(\"T-тест:\")\n",
    "print(f\"T-статистика: {t_statistic}\")\n",
    "print(f\"P-значение: {p_value}\")"
   ]
  },
  {
   "cell_type": "markdown",
   "id": "596459d7",
   "metadata": {},
   "source": [
    "P-value < 0.05 (установленного уровня значимости), т.е. нулевая гипотеза о том, что средние значения в двух группах одинаковы, отверается в пользу альтернативной гипотезы о наличии статистически значимого различия между группами. Т.е. значение признака Regime оказывает влияние на значение целевой перменной(на качество жизни в стране)"
   ]
  },
  {
   "cell_type": "markdown",
   "id": "a66b48ac",
   "metadata": {},
   "source": [
    "### 1.2)  t-тест для определения статистически значимых различий между средними значениями целевой переменной для каждой группы - развитых и развивающихся стран."
   ]
  },
  {
   "cell_type": "code",
   "execution_count": 31,
   "id": "c9600a47",
   "metadata": {},
   "outputs": [
    {
     "name": "stdout",
     "output_type": "stream",
     "text": [
      "T-тест:\n",
      "T-статистика: 20.504291199871066\n",
      "P-значение: 1.4616899573403204e-69\n"
     ]
    }
   ],
   "source": [
    "type_developed = y_train[X_train_processed['Type'] == 'developed']\n",
    "type_developing = y_train[X_train_processed['Type'] == 'developing']\n",
    "\n",
    "t_statistic, p_value = stats.ttest_ind(type_developed, type_developing)\n",
    "\n",
    "print(\"T-тест:\")\n",
    "print(f\"T-статистика: {t_statistic}\")\n",
    "print(f\"P-значение: {p_value}\")"
   ]
  },
  {
   "cell_type": "markdown",
   "id": "b2d45b76",
   "metadata": {},
   "source": [
    "P-value < 0.05 (установленного уровня значимости), т.е. нулевая гипотеза о том, что средние значения в двух группах одинаковы, отверается в пользу альтернативной гипотезы о наличии статистически значимого различия между группами. Т.е. значение признака Type оказывает влияние на значение целевой перменной(на качество жизни в стране)"
   ]
  },
  {
   "cell_type": "markdown",
   "id": "39fbd383",
   "metadata": {},
   "source": [
    "### 1.3)  t-тест для определения статистически значимых различий между средними значениями целевой переменной для каждой группы - стран с пропорциональной и прогрессивной ставкой налогооблажения"
   ]
  },
  {
   "cell_type": "code",
   "execution_count": 32,
   "id": "46961489",
   "metadata": {},
   "outputs": [
    {
     "name": "stdout",
     "output_type": "stream",
     "text": [
      "T-тест:\n",
      "T-статистика: 0.5539713171717346\n",
      "P-значение: 0.5798273711870618\n"
     ]
    }
   ],
   "source": [
    "regime_democracy = y_train[X_train_processed['TAX'] == 'proportional']\n",
    "regime_no_democracy = y_train[X_train_processed['TAX'] == 'progressive']\n",
    "\n",
    "t_statistic, p_value = stats.ttest_ind(regime_democracy, regime_no_democracy)\n",
    "\n",
    "print(\"T-тест:\")\n",
    "print(f\"T-статистика: {t_statistic}\")\n",
    "print(f\"P-значение: {p_value}\")"
   ]
  },
  {
   "cell_type": "markdown",
   "id": "365ad60a",
   "metadata": {},
   "source": [
    "### 2.1)  Тест на нормальность ответов(целевой переменной). Критерий Шапиро-Уилка"
   ]
  },
  {
   "cell_type": "code",
   "execution_count": 33,
   "id": "d0026229",
   "metadata": {},
   "outputs": [
    {
     "name": "stdout",
     "output_type": "stream",
     "text": [
      "Статистика теста: 0.9548541307449341\n",
      "p-value: 7.748753028113953e-12\n",
      "Распределение ответов в y_train не является нормальным.\n"
     ]
    }
   ],
   "source": [
    "from scipy.stats import shapiro\n",
    "\n",
    "statistic, p_value = shapiro(y_train)\n",
    "\n",
    "print(\"Статистика теста:\", statistic)\n",
    "print(\"p-value:\", p_value)\n",
    "\n",
    "alpha = 0.05 \n",
    "if p_value > alpha:\n",
    "    print(\"Распределение ответов в y_train является нормальным.\")\n",
    "else:\n",
    "    print(\"Распределение ответов в y_train не является нормальным.\")"
   ]
  },
  {
   "cell_type": "markdown",
   "id": "72ce13b7",
   "metadata": {},
   "source": [
    "### 2.2)  Тест на нормальность ответов(целевой переменной). Критерия Харке-Бера"
   ]
  },
  {
   "cell_type": "code",
   "execution_count": 34,
   "id": "86ba4de2",
   "metadata": {},
   "outputs": [
    {
     "name": "stdout",
     "output_type": "stream",
     "text": [
      "Распределение ответов в y_train не является нормальным.\n"
     ]
    }
   ],
   "source": [
    "from scipy.stats import jarque_bera\n",
    "\n",
    "jb_stat, jb_p_value = jarque_bera(y_train)\n",
    "\n",
    "if jb_p_value > 0.05:\n",
    "    print(\"Распределение ответов в y_train является нормальным.\")\n",
    "else:\n",
    "    print(\"Распределение ответов в y_train не является нормальным.\")"
   ]
  },
  {
   "cell_type": "markdown",
   "id": "97f5b498",
   "metadata": {},
   "source": [
    "### 2.3)  Тест на нормальность ответов(целевой переменной). Критерия  Андерсона-Дарлинга"
   ]
  },
  {
   "cell_type": "code",
   "execution_count": 170,
   "id": "5805037d",
   "metadata": {},
   "outputs": [
    {
     "name": "stdout",
     "output_type": "stream",
     "text": [
      "Распределение ответов в y_train не является нормальным.\n"
     ]
    }
   ],
   "source": [
    "from scipy.stats import anderson\n",
    "\n",
    "ad_stat, ad_critical_values, ad_significance_levels = anderson(y_train, dist='norm')\n",
    "\n",
    "if ad_stat < ad_critical_values[2]:\n",
    "    print(\"Распределение ответов в y_train является нормальным.\")\n",
    "else:\n",
    "    print(\"Распределение ответов в y_train не является нормальным.\")"
   ]
  },
  {
   "cell_type": "markdown",
   "id": "de51ecda",
   "metadata": {},
   "source": [
    "Все статистические тесты показали, что целевая переменная не подчиняется нормальномк закону распределения. Это не здорово, но живем дальше"
   ]
  },
  {
   "cell_type": "code",
   "execution_count": 35,
   "id": "017c586b",
   "metadata": {},
   "outputs": [
    {
     "data": {
      "text/plain": [
       "(array([ 1.,  2.,  0.,  0.,  1.,  0.,  1.,  0.,  0.,  1.,  0.,  1.,  1.,\n",
       "         1.,  1.,  1.,  3.,  3.,  0.,  1.,  0.,  4.,  1.,  2.,  1.,  2.,\n",
       "         1.,  5.,  1.,  3.,  4.,  4.,  5.,  4.,  2.,  2.,  4.,  3.,  1.,\n",
       "         5.,  1.,  5.,  9.,  4.,  3.,  7.,  5.,  6.,  3.,  8., 14.,  8.,\n",
       "        13.,  5.,  6., 19., 11.,  9.,  9., 10.,  7.,  9., 10., 11., 14.,\n",
       "         4.,  8., 10.,  6., 11.,  9.,  9., 11., 12., 10.,  7., 13., 11.,\n",
       "        12., 12., 12., 11., 16., 16., 12., 12.,  7.,  5., 12.,  5.,  4.,\n",
       "         3.,  1.,  1.,  2.,  0.,  0.,  0.,  0.,  1.]),\n",
       " array([-53.   , -50.241, -47.482, -44.723, -41.964, -39.205, -36.446,\n",
       "        -33.687, -30.928, -28.169, -25.41 , -22.651, -19.892, -17.133,\n",
       "        -14.374, -11.615,  -8.856,  -6.097,  -3.338,  -0.579,   2.18 ,\n",
       "          4.939,   7.698,  10.457,  13.216,  15.975,  18.734,  21.493,\n",
       "         24.252,  27.011,  29.77 ,  32.529,  35.288,  38.047,  40.806,\n",
       "         43.565,  46.324,  49.083,  51.842,  54.601,  57.36 ,  60.119,\n",
       "         62.878,  65.637,  68.396,  71.155,  73.914,  76.673,  79.432,\n",
       "         82.191,  84.95 ,  87.709,  90.468,  93.227,  95.986,  98.745,\n",
       "        101.504, 104.263, 107.022, 109.781, 112.54 , 115.299, 118.058,\n",
       "        120.817, 123.576, 126.335, 129.094, 131.853, 134.612, 137.371,\n",
       "        140.13 , 142.889, 145.648, 148.407, 151.166, 153.925, 156.684,\n",
       "        159.443, 162.202, 164.961, 167.72 , 170.479, 173.238, 175.997,\n",
       "        178.756, 181.515, 184.274, 187.033, 189.792, 192.551, 195.31 ,\n",
       "        198.069, 200.828, 203.587, 206.346, 209.105, 211.864, 214.623,\n",
       "        217.382, 220.141, 222.9  ]),\n",
       " <BarContainer object of 100 artists>)"
      ]
     },
     "execution_count": 35,
     "metadata": {},
     "output_type": "execute_result"
    },
    {
     "data": {
      "image/png": "[encoded data removed]",
      "text/plain": [
       "<Figure size 432x288 with 1 Axes>"
      ]
     },
     "metadata": {
      "needs_background": "light"
     },
     "output_type": "display_data"
    }
   ],
   "source": [
    "plt.hist((y_train), bins = 100)"
   ]
  },
  {
   "cell_type": "markdown",
   "id": "0da7994b",
   "metadata": {},
   "source": [
    "# Машинка"
   ]
  },
  {
   "cell_type": "markdown",
   "id": "a68bcf5c",
   "metadata": {},
   "source": [
    "### Сначала посмотрим на catboost"
   ]
  },
  {
   "cell_type": "code",
   "execution_count": 36,
   "id": "92ed22ed",
   "metadata": {},
   "outputs": [
    {
     "data": {
      "text/plain": [
       "['TAX', 'Regional indicator', 'Type', 'Regime']"
      ]
     },
     "execution_count": 36,
     "metadata": {},
     "output_type": "execute_result"
    }
   ],
   "source": [
    "cat = [i for i in X_train_processed if X_train_processed[i].dtype == 'object']\n",
    "cat"
   ]
  },
  {
   "cell_type": "markdown",
   "id": "1159b107",
   "metadata": {},
   "source": [
    "Я решила использовать RMSE как функцию потерь. В ходе работы некоторые гиперпараметры перебирались (iterations и learning_rate), остальные были оставлены в дефолтном состоянии, т.к. при попытке их подбора качество моделей начинало падать."
   ]
  },
  {
   "cell_type": "code",
   "execution_count": 37,
   "id": "55660146",
   "metadata": {},
   "outputs": [
    {
     "data": {
      "application/vnd.jupyter.widget-view+json": {
       "model_id": "de64e9a4f3054598ac6474913b063e40",
       "version_major": 2,
       "version_minor": 0
      },
      "text/plain": [
       "MetricVisualizer(layout=Layout(align_self='stretch', height='500px'))"
      ]
     },
     "metadata": {},
     "output_type": "display_data"
    },
    {
     "name": "stdout",
     "output_type": "stream",
     "text": [
      "Training on fold [0/5]\n",
      "\n",
      "bestTest = 25.38770755\n",
      "bestIteration = 344\n",
      "\n",
      "Training on fold [1/5]\n",
      "\n",
      "bestTest = 24.68050661\n",
      "bestIteration = 292\n",
      "\n",
      "Training on fold [2/5]\n",
      "\n",
      "bestTest = 22.82245806\n",
      "bestIteration = 348\n",
      "\n",
      "Training on fold [3/5]\n",
      "\n",
      "bestTest = 24.56531214\n",
      "bestIteration = 319\n",
      "\n",
      "Training on fold [4/5]\n",
      "\n",
      "bestTest = 23.93525499\n",
      "bestIteration = 230\n",
      "\n",
      "R-Score on test set: 0.7899489844892718\n"
     ]
    }
   ],
   "source": [
    "import catboost as cb\n",
    "from catboost import CatBoostClassifier, Pool\n",
    "import matplotlib.pyplot as plt\n",
    "from sklearn.metrics import r2_score\n",
    "from sklearn.model_selection import GridSearchCV\n",
    "\n",
    "from catboost import cv\n",
    "\n",
    "params = {}\n",
    "params[\"loss_function\"] = \"RMSE\"  \n",
    "params[\"iterations\"] = 350\n",
    "params[\"random_seed\"] = 63\n",
    "params[\"learning_rate\"] = 0.07\n",
    "\n",
    "\n",
    "cv_data = cv(\n",
    "    params=params,\n",
    "    pool=Pool(X_train_processed, label=y_train, cat_features=cat),\n",
    "    fold_count=5,\n",
    "    shuffle=True,\n",
    "    partition_random_seed=0,\n",
    "    plot=True,\n",
    "    stratified=False,\n",
    "    verbose=False,\n",
    ")\n",
    "\n",
    "\n",
    "model = cb.CatBoostRegressor(**params)  \n",
    "model.fit(X_train_processed, y_train, cat_features=cat, verbose = False)\n",
    "y_pred = model.predict(X_test_processed)\n",
    "\n",
    "r_score = r2_score(y_test, y_pred)\n",
    "print(\"R-Score on test set:\", r_score)\n",
    "\n",
    "\n",
    "\n",
    "\n"
   ]
  },
  {
   "cell_type": "markdown",
   "id": "fb739806",
   "metadata": {},
   "source": [
    "Коэффициент детерминации(доля дисперсии, объясняемая объясняющими переменными) получился равен 0.78995. Неплохой результат, но попробуем внести определенные изменения в наши данные и добиться лучшего показателя:"
   ]
  },
  {
   "cell_type": "markdown",
   "id": "f7e3ba8a",
   "metadata": {},
   "source": [
    "### Нормируем данные и сравним результаты моделей."
   ]
  },
  {
   "cell_type": "code",
   "execution_count": 38,
   "id": "fe20f084",
   "metadata": {},
   "outputs": [],
   "source": [
    "X_train_cat = X_train_processed[['TAX', 'Type', 'Regime', 'Regional indicator']]\n",
    "X_test_cat = X_test_processed[['TAX', 'Type', 'Regime', 'Regional indicator']]"
   ]
  },
  {
   "cell_type": "code",
   "execution_count": 39,
   "id": "98815126",
   "metadata": {},
   "outputs": [
    {
     "data": {
      "text/html": [
       "<div>\n",
       "<style scoped>\n",
       "    .dataframe tbody tr th:only-of-type {\n",
       "        vertical-align: middle;\n",
       "    }\n",
       "\n",
       "    .dataframe tbody tr th {\n",
       "        vertical-align: top;\n",
       "    }\n",
       "\n",
       "    .dataframe thead th {\n",
       "        text-align: right;\n",
       "    }\n",
       "</style>\n",
       "<table border=\"1\" class=\"dataframe\">\n",
       "  <thead>\n",
       "    <tr style=\"text-align: right;\">\n",
       "      <th></th>\n",
       "      <th>POLLUTION</th>\n",
       "      <th>PRICE_TO_INCOME_RATIO</th>\n",
       "      <th>CRIME</th>\n",
       "      <th>GDP</th>\n",
       "      <th>GDP_PER_CAP</th>\n",
       "      <th>log_CAP</th>\n",
       "      <th>log_RATIO</th>\n",
       "      <th>TAX</th>\n",
       "      <th>Type</th>\n",
       "      <th>Regime</th>\n",
       "      <th>Regional indicator</th>\n",
       "    </tr>\n",
       "  </thead>\n",
       "  <tbody>\n",
       "    <tr>\n",
       "      <th>646</th>\n",
       "      <td>-1.347187</td>\n",
       "      <td>-0.646330</td>\n",
       "      <td>0.157156</td>\n",
       "      <td>-0.270454</td>\n",
       "      <td>-0.882383</td>\n",
       "      <td>-1.022753</td>\n",
       "      <td>-0.590044</td>\n",
       "      <td>progressive</td>\n",
       "      <td>developed</td>\n",
       "      <td>democracy</td>\n",
       "      <td>North America and ANZ</td>\n",
       "    </tr>\n",
       "    <tr>\n",
       "      <th>336</th>\n",
       "      <td>-1.228678</td>\n",
       "      <td>-0.903319</td>\n",
       "      <td>-0.069257</td>\n",
       "      <td>0.129830</td>\n",
       "      <td>0.960089</td>\n",
       "      <td>1.035698</td>\n",
       "      <td>-1.056041</td>\n",
       "      <td>progressive</td>\n",
       "      <td>developed</td>\n",
       "      <td>democracy</td>\n",
       "      <td>North America and ANZ</td>\n",
       "    </tr>\n",
       "    <tr>\n",
       "      <th>63</th>\n",
       "      <td>-1.434971</td>\n",
       "      <td>-0.978905</td>\n",
       "      <td>0.120637</td>\n",
       "      <td>-0.344275</td>\n",
       "      <td>0.860638</td>\n",
       "      <td>0.988925</td>\n",
       "      <td>-1.216959</td>\n",
       "      <td>progressive</td>\n",
       "      <td>developed</td>\n",
       "      <td>democracy</td>\n",
       "      <td>North America and ANZ</td>\n",
       "    </tr>\n",
       "    <tr>\n",
       "      <th>367</th>\n",
       "      <td>-1.535922</td>\n",
       "      <td>-0.676564</td>\n",
       "      <td>0.405478</td>\n",
       "      <td>-0.276822</td>\n",
       "      <td>2.363258</td>\n",
       "      <td>1.528208</td>\n",
       "      <td>-0.639501</td>\n",
       "      <td>progressive</td>\n",
       "      <td>developed</td>\n",
       "      <td>democracy</td>\n",
       "      <td>Western Europe</td>\n",
       "    </tr>\n",
       "    <tr>\n",
       "      <th>101</th>\n",
       "      <td>0.772799</td>\n",
       "      <td>0.895608</td>\n",
       "      <td>0.025690</td>\n",
       "      <td>-0.269690</td>\n",
       "      <td>-0.840112</td>\n",
       "      <td>-0.869099</td>\n",
       "      <td>1.022264</td>\n",
       "      <td>progressive</td>\n",
       "      <td>developing</td>\n",
       "      <td>democracy</td>\n",
       "      <td>Southeast Asia</td>\n",
       "    </tr>\n",
       "  </tbody>\n",
       "</table>\n",
       "</div>"
      ],
      "text/plain": [
       "     POLLUTION  PRICE_TO_INCOME_RATIO     CRIME       GDP  GDP_PER_CAP  \\\n",
       "646  -1.347187              -0.646330  0.157156 -0.270454    -0.882383   \n",
       "336  -1.228678              -0.903319 -0.069257  0.129830     0.960089   \n",
       "63   -1.434971              -0.978905  0.120637 -0.344275     0.860638   \n",
       "367  -1.535922              -0.676564  0.405478 -0.276822     2.363258   \n",
       "101   0.772799               0.895608  0.025690 -0.269690    -0.840112   \n",
       "\n",
       "      log_CAP  log_RATIO          TAX        Type     Regime  \\\n",
       "646 -1.022753  -0.590044  progressive   developed  democracy   \n",
       "336  1.035698  -1.056041  progressive   developed  democracy   \n",
       "63   0.988925  -1.216959  progressive   developed  democracy   \n",
       "367  1.528208  -0.639501  progressive   developed  democracy   \n",
       "101 -0.869099   1.022264  progressive  developing  democracy   \n",
       "\n",
       "        Regional indicator  \n",
       "646  North America and ANZ  \n",
       "336  North America and ANZ  \n",
       "63   North America and ANZ  \n",
       "367         Western Europe  \n",
       "101         Southeast Asia  "
      ]
     },
     "execution_count": 39,
     "metadata": {},
     "output_type": "execute_result"
    }
   ],
   "source": [
    "numeric_cols = X_train_processed.select_dtypes(include=['number']).columns.tolist()\n",
    "scaler = StandardScaler()\n",
    "X_train_processed[numeric_cols] = scaler.fit_transform(X_train_processed[numeric_cols])\n",
    "X_test_processed[numeric_cols] = scaler.transform(X_test_processed[numeric_cols])\n",
    "\n",
    "X_train_processed = pd.concat([X_train_processed[numeric_cols], X_train_cat], axis=1)\n",
    "X_test_processed = pd.concat([X_test_processed[numeric_cols], X_test_cat], axis=1)\n",
    "X_test_processed.head()"
   ]
  },
  {
   "cell_type": "code",
   "execution_count": 40,
   "id": "cc0ca726",
   "metadata": {},
   "outputs": [
    {
     "data": {
      "application/vnd.jupyter.widget-view+json": {
       "model_id": "597998a1c0f444e6bfc7c0dd264ed3c7",
       "version_major": 2,
       "version_minor": 0
      },
      "text/plain": [
       "MetricVisualizer(layout=Layout(align_self='stretch', height='500px'))"
      ]
     },
     "metadata": {},
     "output_type": "display_data"
    },
    {
     "name": "stdout",
     "output_type": "stream",
     "text": [
      "Training on fold [0/5]\n",
      "\n",
      "bestTest = 25.34519832\n",
      "bestIteration = 344\n",
      "\n",
      "Training on fold [1/5]\n",
      "\n",
      "bestTest = 24.6886057\n",
      "bestIteration = 292\n",
      "\n",
      "Training on fold [2/5]\n",
      "\n",
      "bestTest = 22.77718104\n",
      "bestIteration = 348\n",
      "\n",
      "Training on fold [3/5]\n",
      "\n",
      "bestTest = 24.60303714\n",
      "bestIteration = 318\n",
      "\n",
      "Training on fold [4/5]\n",
      "\n",
      "bestTest = 23.94182868\n",
      "bestIteration = 230\n",
      "\n",
      "R-Score on test set: 0.7898047277128011\n"
     ]
    }
   ],
   "source": [
    "import catboost as cb\n",
    "from catboost import CatBoostClassifier, Pool\n",
    "import matplotlib.pyplot as plt\n",
    "from sklearn.metrics import r2_score\n",
    "from sklearn.model_selection import GridSearchCV\n",
    "\n",
    "from catboost import cv\n",
    "\n",
    "params = {}\n",
    "params[\"loss_function\"] = \"RMSE\"  \n",
    "params[\"iterations\"] = 350\n",
    "params[\"random_seed\"] = 63\n",
    "params[\"learning_rate\"] = 0.07\n",
    "\n",
    "\n",
    "cv_data = cv(\n",
    "    params=params,\n",
    "    pool=Pool(X_train_processed, label=y_train, cat_features=cat),\n",
    "    fold_count=5,\n",
    "    shuffle=True,\n",
    "    partition_random_seed=0,\n",
    "    plot=True,\n",
    "    stratified=False,\n",
    "    verbose=False,\n",
    ")\n",
    "\n",
    "\n",
    "model = cb.CatBoostRegressor(**params)  \n",
    "model.fit(X_train_processed, y_train, cat_features=cat, verbose = False)\n",
    "y_pred = model.predict(X_test_processed)\n",
    "\n",
    "r_score = r2_score(y_test, y_pred)\n",
    "print(\"R-Score on test set:\", r_score)\n",
    "\n"
   ]
  },
  {
   "cell_type": "markdown",
   "id": "f9ae7350",
   "metadata": {},
   "source": [
    "Качество модели почти не поменялось, совсем незначительно упало - на одну тысячную. Продолжим:"
   ]
  },
  {
   "cell_type": "markdown",
   "id": "2c1b6aa3",
   "metadata": {},
   "source": [
    "Во время визуализации было сделано предположение, что признак GDP и целевая перемменная (судя по виду scatterplota) никак не связаны друг с другом. Такое же предположение было сделано после проведения t-testa целевой переменной и признака TAX. Уберем их и посмотрим, как изменится качество модели"
   ]
  },
  {
   "cell_type": "code",
   "execution_count": 41,
   "id": "2e790b38",
   "metadata": {},
   "outputs": [],
   "source": [
    "X_train_processed.drop(['GDP','TAX'], axis = 1, inplace = True)\n",
    "X_test_processed.drop(['GDP','TAX'], axis = 1, inplace = True)"
   ]
  },
  {
   "cell_type": "code",
   "execution_count": 42,
   "id": "78191afc",
   "metadata": {},
   "outputs": [
    {
     "data": {
      "text/html": [
       "<div>\n",
       "<style scoped>\n",
       "    .dataframe tbody tr th:only-of-type {\n",
       "        vertical-align: middle;\n",
       "    }\n",
       "\n",
       "    .dataframe tbody tr th {\n",
       "        vertical-align: top;\n",
       "    }\n",
       "\n",
       "    .dataframe thead th {\n",
       "        text-align: right;\n",
       "    }\n",
       "</style>\n",
       "<table border=\"1\" class=\"dataframe\">\n",
       "  <thead>\n",
       "    <tr style=\"text-align: right;\">\n",
       "      <th></th>\n",
       "      <th>POLLUTION</th>\n",
       "      <th>PRICE_TO_INCOME_RATIO</th>\n",
       "      <th>CRIME</th>\n",
       "      <th>GDP_PER_CAP</th>\n",
       "      <th>log_CAP</th>\n",
       "      <th>log_RATIO</th>\n",
       "      <th>Type</th>\n",
       "      <th>Regime</th>\n",
       "      <th>Regional indicator</th>\n",
       "    </tr>\n",
       "  </thead>\n",
       "  <tbody>\n",
       "    <tr>\n",
       "      <th>646</th>\n",
       "      <td>-1.347187</td>\n",
       "      <td>-0.646330</td>\n",
       "      <td>0.157156</td>\n",
       "      <td>-0.882383</td>\n",
       "      <td>-1.022753</td>\n",
       "      <td>-0.590044</td>\n",
       "      <td>developed</td>\n",
       "      <td>democracy</td>\n",
       "      <td>North America and ANZ</td>\n",
       "    </tr>\n",
       "    <tr>\n",
       "      <th>336</th>\n",
       "      <td>-1.228678</td>\n",
       "      <td>-0.903319</td>\n",
       "      <td>-0.069257</td>\n",
       "      <td>0.960089</td>\n",
       "      <td>1.035698</td>\n",
       "      <td>-1.056041</td>\n",
       "      <td>developed</td>\n",
       "      <td>democracy</td>\n",
       "      <td>North America and ANZ</td>\n",
       "    </tr>\n",
       "    <tr>\n",
       "      <th>63</th>\n",
       "      <td>-1.434971</td>\n",
       "      <td>-0.978905</td>\n",
       "      <td>0.120637</td>\n",
       "      <td>0.860638</td>\n",
       "      <td>0.988925</td>\n",
       "      <td>-1.216959</td>\n",
       "      <td>developed</td>\n",
       "      <td>democracy</td>\n",
       "      <td>North America and ANZ</td>\n",
       "    </tr>\n",
       "    <tr>\n",
       "      <th>367</th>\n",
       "      <td>-1.535922</td>\n",
       "      <td>-0.676564</td>\n",
       "      <td>0.405478</td>\n",
       "      <td>2.363258</td>\n",
       "      <td>1.528208</td>\n",
       "      <td>-0.639501</td>\n",
       "      <td>developed</td>\n",
       "      <td>democracy</td>\n",
       "      <td>Western Europe</td>\n",
       "    </tr>\n",
       "    <tr>\n",
       "      <th>101</th>\n",
       "      <td>0.772799</td>\n",
       "      <td>0.895608</td>\n",
       "      <td>0.025690</td>\n",
       "      <td>-0.840112</td>\n",
       "      <td>-0.869099</td>\n",
       "      <td>1.022264</td>\n",
       "      <td>developing</td>\n",
       "      <td>democracy</td>\n",
       "      <td>Southeast Asia</td>\n",
       "    </tr>\n",
       "  </tbody>\n",
       "</table>\n",
       "</div>"
      ],
      "text/plain": [
       "     POLLUTION  PRICE_TO_INCOME_RATIO     CRIME  GDP_PER_CAP   log_CAP  \\\n",
       "646  -1.347187              -0.646330  0.157156    -0.882383 -1.022753   \n",
       "336  -1.228678              -0.903319 -0.069257     0.960089  1.035698   \n",
       "63   -1.434971              -0.978905  0.120637     0.860638  0.988925   \n",
       "367  -1.535922              -0.676564  0.405478     2.363258  1.528208   \n",
       "101   0.772799               0.895608  0.025690    -0.840112 -0.869099   \n",
       "\n",
       "     log_RATIO        Type     Regime     Regional indicator  \n",
       "646  -0.590044   developed  democracy  North America and ANZ  \n",
       "336  -1.056041   developed  democracy  North America and ANZ  \n",
       "63   -1.216959   developed  democracy  North America and ANZ  \n",
       "367  -0.639501   developed  democracy         Western Europe  \n",
       "101   1.022264  developing  democracy         Southeast Asia  "
      ]
     },
     "execution_count": 42,
     "metadata": {},
     "output_type": "execute_result"
    }
   ],
   "source": [
    "X_test_processed.head()"
   ]
  },
  {
   "cell_type": "code",
   "execution_count": 43,
   "id": "67ee5f08",
   "metadata": {},
   "outputs": [
    {
     "data": {
      "text/plain": [
       "['Type', 'Regime', 'Regional indicator']"
      ]
     },
     "execution_count": 43,
     "metadata": {},
     "output_type": "execute_result"
    }
   ],
   "source": [
    "cat = [i for i in X_train_processed if X_train_processed[i].dtype == 'object']\n",
    "cat"
   ]
  },
  {
   "cell_type": "code",
   "execution_count": 44,
   "id": "b11db023",
   "metadata": {},
   "outputs": [
    {
     "data": {
      "application/vnd.jupyter.widget-view+json": {
       "model_id": "8bb7942d964c411297c774baa805658f",
       "version_major": 2,
       "version_minor": 0
      },
      "text/plain": [
       "MetricVisualizer(layout=Layout(align_self='stretch', height='500px'))"
      ]
     },
     "metadata": {},
     "output_type": "display_data"
    },
    {
     "name": "stdout",
     "output_type": "stream",
     "text": [
      "Training on fold [0/5]\n",
      "\n",
      "bestTest = 25.82767038\n",
      "bestIteration = 417\n",
      "\n",
      "Training on fold [1/5]\n",
      "\n",
      "bestTest = 24.38820415\n",
      "bestIteration = 426\n",
      "\n",
      "Training on fold [2/5]\n",
      "\n",
      "bestTest = 22.38192614\n",
      "bestIteration = 417\n",
      "\n",
      "Training on fold [3/5]\n",
      "\n",
      "bestTest = 23.6294956\n",
      "bestIteration = 379\n",
      "\n",
      "Training on fold [4/5]\n",
      "\n",
      "bestTest = 24.41451551\n",
      "bestIteration = 184\n",
      "\n",
      "R-Score on test set: 0.783214377572008\n"
     ]
    }
   ],
   "source": [
    "import catboost as cb\n",
    "from catboost import CatBoostClassifier, Pool\n",
    "import matplotlib.pyplot as plt\n",
    "from sklearn.metrics import r2_score\n",
    "from sklearn.model_selection import GridSearchCV\n",
    "\n",
    "from catboost import cv\n",
    "\n",
    "params = {}\n",
    "params[\"loss_function\"] = \"RMSE\"  \n",
    "params[\"iterations\"] = 470\n",
    "params[\"random_seed\"] = 63\n",
    "params[\"learning_rate\"] = 0.07\n",
    "\n",
    "\n",
    "cv_data = cv(\n",
    "    params=params,\n",
    "    pool=Pool(X_train_processed, label=y_train, cat_features=cat),\n",
    "    fold_count=5,\n",
    "    shuffle=True,\n",
    "    partition_random_seed=0,\n",
    "    plot=True,\n",
    "    stratified=False,\n",
    "    verbose=False,\n",
    ")\n",
    "\n",
    "\n",
    "model = cb.CatBoostRegressor(**params)  \n",
    "model.fit(X_train_processed, y_train, cat_features=cat, verbose = False)\n",
    "y_pred = model.predict(X_test_processed)\n",
    "\n",
    "r_score = r2_score(y_test, y_pred)\n",
    "print(\"R-Score on test set:\", r_score)\n",
    "\n"
   ]
  },
  {
   "cell_type": "markdown",
   "id": "b032d79a",
   "metadata": {},
   "source": [
    "Качество модели снизилось на тысячные. Продолжаем:"
   ]
  },
  {
   "cell_type": "markdown",
   "id": "2cffd00c",
   "metadata": {},
   "source": [
    "Проведём encoding и чуть снизим количество итераций:"
   ]
  },
  {
   "cell_type": "code",
   "execution_count": 46,
   "id": "387a5015",
   "metadata": {},
   "outputs": [],
   "source": [
    "categorical_cols = X_train_processed.select_dtypes(include=['object']).columns.tolist()\n",
    "numeric_cols = X_train_processed.select_dtypes(include=['number']).columns.tolist()\n",
    "X_train_cat = pd.get_dummies(X_train_processed[categorical_cols], drop_first=True)\n",
    "X_test_cat = pd.get_dummies(X_test_processed[categorical_cols], drop_first=True)\n",
    "missing_cols = set(X_train_cat.columns) - set(X_test_cat.columns)\n",
    "for c in missing_cols:\n",
    "    X_test_cat[c] = 0\n",
    "X_test_cat = X_test_cat.reindex(columns=X_train_cat.columns, fill_value=0)\n",
    "X_train_processed = pd.concat([X_train_processed[numeric_cols], X_train_cat], axis=1)\n",
    "X_test_processed = pd.concat([X_test_processed[numeric_cols], X_test_cat], axis=1)\n",
    "\n"
   ]
  },
  {
   "cell_type": "code",
   "execution_count": 47,
   "id": "8862ded4",
   "metadata": {},
   "outputs": [
    {
     "data": {
      "application/vnd.jupyter.widget-view+json": {
       "model_id": "0a8dd2e2a9cb4528b9db7c069687601c",
       "version_major": 2,
       "version_minor": 0
      },
      "text/plain": [
       "MetricVisualizer(layout=Layout(align_self='stretch', height='500px'))"
      ]
     },
     "metadata": {},
     "output_type": "display_data"
    },
    {
     "name": "stdout",
     "output_type": "stream",
     "text": [
      "Training on fold [0/5]\n",
      "\n",
      "bestTest = 25.81132904\n",
      "bestIteration = 329\n",
      "\n",
      "Training on fold [1/5]\n",
      "\n",
      "bestTest = 23.4473368\n",
      "bestIteration = 448\n",
      "\n",
      "Training on fold [2/5]\n",
      "\n",
      "bestTest = 22.62118814\n",
      "bestIteration = 449\n",
      "\n",
      "Training on fold [3/5]\n",
      "\n",
      "bestTest = 23.86045878\n",
      "bestIteration = 449\n",
      "\n",
      "Training on fold [4/5]\n",
      "\n",
      "bestTest = 23.28442854\n",
      "bestIteration = 236\n",
      "\n",
      "R-Score on test set: 0.8014528156511805\n"
     ]
    }
   ],
   "source": [
    "params = {}\n",
    "params[\"loss_function\"] = \"RMSE\"  \n",
    "params[\"iterations\"] = 450\n",
    "params[\"random_seed\"] = 63\n",
    "params[\"learning_rate\"] = 0.07\n",
    "\n",
    "\n",
    "cv_data = cv(\n",
    "    params=params,\n",
    "    pool=Pool(X_train_processed, label=y_train, cat_features=X_train_processed.select_dtypes(include=['object']).columns.tolist()),\n",
    "    fold_count=5,\n",
    "    shuffle=True,\n",
    "    partition_random_seed=0,\n",
    "    plot=True,\n",
    "    stratified=False,\n",
    "    verbose=False,\n",
    ")\n",
    "\n",
    "\n",
    "model = cb.CatBoostRegressor(**params)  \n",
    "model.fit(X_train_processed, y_train, cat_features=X_train_processed.select_dtypes(include=['object']).columns.tolist(), verbose = False)\n",
    "y_pred = model.predict(X_test_processed)\n",
    "\n",
    "r_score = r2_score(y_test, y_pred)\n",
    "print(\"R-Score on test set:\", r_score)"
   ]
  },
  {
   "cell_type": "markdown",
   "id": "76a3f874",
   "metadata": {},
   "source": [
    "Скорость обучения стала значительно меньше, R^2 достиг своего максимального значения и стал равен 0,8. Пока что эта модель является самой оптимальной. "
   ]
  },
  {
   "cell_type": "markdown",
   "id": "fed39557",
   "metadata": {},
   "source": [
    "Посмотри как поведет себя RandomForestRegressor, подбирать параметры будем с помощью GridSearchCV"
   ]
  },
  {
   "cell_type": "code",
   "execution_count": 48,
   "id": "5408142c",
   "metadata": {},
   "outputs": [
    {
     "name": "stderr",
     "output_type": "stream",
     "text": [
      "C:\\Users\\Nvero\\anaconda3\\lib\\site-packages\\sklearn\\model_selection\\_validation.py:372: FitFailedWarning: \n",
      "12 fits failed out of a total of 60.\n",
      "The score on these train-test partitions for these parameters will be set to nan.\n",
      "If these failures are not expected, you can try to debug them by setting error_score='raise'.\n",
      "\n",
      "Below are more details about the failures:\n",
      "--------------------------------------------------------------------------------\n",
      "12 fits failed with the following error:\n",
      "Traceback (most recent call last):\n",
      "  File \"C:\\Users\\Nvero\\anaconda3\\lib\\site-packages\\sklearn\\model_selection\\_validation.py\", line 680, in _fit_and_score\n",
      "    estimator.fit(X_train, y_train, **fit_params)\n",
      "  File \"C:\\Users\\Nvero\\anaconda3\\lib\\site-packages\\sklearn\\ensemble\\_forest.py\", line 450, in fit\n",
      "    trees = Parallel(\n",
      "  File \"C:\\Users\\Nvero\\anaconda3\\lib\\site-packages\\joblib\\parallel.py\", line 1043, in __call__\n",
      "    if self.dispatch_one_batch(iterator):\n",
      "  File \"C:\\Users\\Nvero\\anaconda3\\lib\\site-packages\\joblib\\parallel.py\", line 861, in dispatch_one_batch\n",
      "    self._dispatch(tasks)\n",
      "  File \"C:\\Users\\Nvero\\anaconda3\\lib\\site-packages\\joblib\\parallel.py\", line 779, in _dispatch\n",
      "    job = self._backend.apply_async(batch, callback=cb)\n",
      "  File \"C:\\Users\\Nvero\\anaconda3\\lib\\site-packages\\joblib\\_parallel_backends.py\", line 208, in apply_async\n",
      "    result = ImmediateResult(func)\n",
      "  File \"C:\\Users\\Nvero\\anaconda3\\lib\\site-packages\\joblib\\_parallel_backends.py\", line 572, in __init__\n",
      "    self.results = batch()\n",
      "  File \"C:\\Users\\Nvero\\anaconda3\\lib\\site-packages\\joblib\\parallel.py\", line 262, in __call__\n",
      "    return [func(*args, **kwargs)\n",
      "  File \"C:\\Users\\Nvero\\anaconda3\\lib\\site-packages\\joblib\\parallel.py\", line 262, in <listcomp>\n",
      "    return [func(*args, **kwargs)\n",
      "  File \"C:\\Users\\Nvero\\anaconda3\\lib\\site-packages\\sklearn\\utils\\fixes.py\", line 216, in __call__\n",
      "    return self.function(*args, **kwargs)\n",
      "  File \"C:\\Users\\Nvero\\anaconda3\\lib\\site-packages\\sklearn\\ensemble\\_forest.py\", line 185, in _parallel_build_trees\n",
      "    tree.fit(X, y, sample_weight=curr_sample_weight, check_input=False)\n",
      "  File \"C:\\Users\\Nvero\\anaconda3\\lib\\site-packages\\sklearn\\tree\\_classes.py\", line 1315, in fit\n",
      "    super().fit(\n",
      "  File \"C:\\Users\\Nvero\\anaconda3\\lib\\site-packages\\sklearn\\tree\\_classes.py\", line 250, in fit\n",
      "    raise ValueError(\n",
      "ValueError: min_samples_split must be an integer greater than 1 or a float in (0.0, 1.0]; got the integer 1\n",
      "\n",
      "  warnings.warn(some_fits_failed_message, FitFailedWarning)\n",
      "C:\\Users\\Nvero\\anaconda3\\lib\\site-packages\\sklearn\\model_selection\\_search.py:969: UserWarning: One or more of the test scores are non-finite: [       nan 0.75475659 0.75305687 0.75257242 0.74449332        nan\n",
      " 0.73282911 0.73247283 0.73232105 0.72945278        nan 0.75406664\n",
      " 0.7509174  0.75046227 0.74347725        nan 0.75552534 0.7535386\n",
      " 0.75150203 0.74497732]\n",
      "  warnings.warn(\n"
     ]
    },
    {
     "name": "stdout",
     "output_type": "stream",
     "text": [
      "Best max depth: 15\n",
      "Best min samples split: 2\n",
      "R-Score on test set: 0.7714137374041444\n"
     ]
    }
   ],
   "source": [
    "from sklearn.ensemble import RandomForestRegressor\n",
    "from sklearn.model_selection import GridSearchCV\n",
    "from sklearn.metrics import r2_score\n",
    "import matplotlib.pyplot as plt\n",
    "\n",
    "model = RandomForestRegressor()\n",
    "\n",
    "param_grid = {'n_estimators' : [1000],\n",
    "    'max_depth': [None, 5, 10, 15],\n",
    "    'min_samples_split': [1, 2, 3, 5, 10]\n",
    "}\n",
    "\n",
    "\n",
    "grid_search = GridSearchCV(model, param_grid, cv=3)\n",
    "grid_search.fit(X_train_processed, y_train)\n",
    "\n",
    "\n",
    "best_model = grid_search.best_estimator_\n",
    "best_model.fit(X_train_processed, y_train)\n",
    "\n",
    "y_pred = best_model.predict(X_test_processed)\n",
    "r_score = r2_score(y_test, y_pred)\n",
    "\n",
    "print(\"Best max depth:\", best_model.max_depth)\n",
    "print(\"Best min samples split:\", best_model.min_samples_split)\n",
    "print(\"R-Score on test set:\", r_score)\n"
   ]
  },
  {
   "cell_type": "markdown",
   "id": "b036e5e6",
   "metadata": {},
   "source": [
    "R^2 равен 0.7714. Модель можно считать качественной, но лучше всего себя показала предыдущая - CatBoostRegressor обучающий только на признаках, чье влияние на целевую переменную было выявлено в ходе построения визуализации и проведения статистических тестов, а также на закодированных категориальных признаках."
   ]
  },
  {
   "cell_type": "markdown",
   "id": "790aa994",
   "metadata": {},
   "source": [
    "Предпоследняя модель - оптимальная регрессионная модель моего проекта. Достигнутое качество: коэффициент детерминации приблизительно 0,8. Он указывает, что 80% вариации зависимой переменной(индекса качества жизни в стране)может быть объяснено независимыми переменными."
   ]
  },
  {
   "cell_type": "markdown",
   "id": "e9e57e13",
   "metadata": {},
   "source": [
    "## Итоги"
   ]
  },
  {
   "cell_type": "markdown",
   "id": "6308be17",
   "metadata": {},
   "source": [
    "Была построена визуализация, которая помогла опредедлить наличие связи между целевой перменной и признаками-предикторами, а также направление этой связи. Были обнаружены нелинейные закономерности, благодаря чему ввелись новые признаки-предикторы. С помощью тестов было изучено распределение числовых переменных, было статистически исследовано наличие влияния категориальных признаков на таргет. Все это позволило добиться улучшения качества модели при проведении машинного обучения. Получена регрессионная модель, которая хорошо справляется с предсказанием индекса качества жизни в стране по ВВП на душу населения, индексу загрезненности окружающей среды, индексу соотношению цен и доходов,уровню преступности, Региональной принадлежности, политическому режиму и характеристике страны по уровню развитости."
   ]
  },
  {
   "cell_type": "code",
   "execution_count": null,
   "id": "8d3367ba",
   "metadata": {},
   "outputs": [],
   "source": []
  }
 ],
 "metadata": {
  "kernelspec": {
   "display_name": "Python 3 (ipykernel)",
   "language": "python",
   "name": "python3"
  },
  "language_info": {
   "codemirror_mode": {
    "name": "ipython",
    "version": 3
   },
   "file_extension": ".py",
   "mimetype": "text/x-python",
   "name": "python",
   "nbconvert_exporter": "python",
   "pygments_lexer": "ipython3",
   "version": "3.9.12"
  }
 },
 "nbformat": 4,
 "nbformat_minor": 5
}
